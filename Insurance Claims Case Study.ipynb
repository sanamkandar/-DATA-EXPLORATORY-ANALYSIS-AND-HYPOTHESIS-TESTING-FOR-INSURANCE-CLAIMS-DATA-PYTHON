{
 "cells": [
  {
   "cell_type": "code",
   "execution_count": 86,
   "id": "b2b26493",
   "metadata": {},
   "outputs": [],
   "source": [
    "import pandas as pd\n",
    "import numpy as np\n",
    "import datetime as dt\n",
    "\n",
    "#package for visualizations\n",
    "import matplotlib.pyplot as plt\n",
    "import seaborn as sns\n",
    "\n",
    "#package for statistical test (hypothesis testing)\n",
    "import scipy.stats as stats\n"
   ]
  },
  {
   "cell_type": "code",
   "execution_count": 87,
   "id": "c6d8d0dc",
   "metadata": {},
   "outputs": [],
   "source": [
    "# import datsets\n",
    "claims = pd.read_csv(\"C://Users//SANAM KANDAR//OneDrive//Desktop//Case Study//PYTHON//Python Foundation Case Study 3 - Insurance Claims Case Study//Case Study 3 - Insurance Claims Case Study//claims.csv\")\n",
    "cust_data = pd.read_csv(\"C://Users//SANAM KANDAR//OneDrive//Desktop//Case Study//PYTHON//Python Foundation Case Study 3 - Insurance Claims Case Study//Case Study 3 - Insurance Claims Case Study//cust_demographics.csv\")"
   ]
  },
  {
   "cell_type": "code",
   "execution_count": 88,
   "id": "31233ea0",
   "metadata": {},
   "outputs": [],
   "source": [
    "insurance_data = pd.merge(right = cust_data, left = claims, how=\"inner\", right_on=\"CUST_ID\", left_on=\"customer_id\")"
   ]
  },
  {
   "cell_type": "code",
   "execution_count": 89,
   "id": "a9106834",
   "metadata": {},
   "outputs": [
    {
     "data": {
      "text/html": [
       "<div>\n",
       "<style scoped>\n",
       "    .dataframe tbody tr th:only-of-type {\n",
       "        vertical-align: middle;\n",
       "    }\n",
       "\n",
       "    .dataframe tbody tr th {\n",
       "        vertical-align: top;\n",
       "    }\n",
       "\n",
       "    .dataframe thead th {\n",
       "        text-align: right;\n",
       "    }\n",
       "</style>\n",
       "<table border=\"1\" class=\"dataframe\">\n",
       "  <thead>\n",
       "    <tr style=\"text-align: right;\">\n",
       "      <th></th>\n",
       "      <th>claim_id</th>\n",
       "      <th>customer_id</th>\n",
       "      <th>incident_cause</th>\n",
       "      <th>claim_date</th>\n",
       "      <th>claim_area</th>\n",
       "      <th>police_report</th>\n",
       "      <th>claim_type</th>\n",
       "      <th>claim_amount</th>\n",
       "      <th>total_policy_claims</th>\n",
       "      <th>fraudulent</th>\n",
       "      <th>CUST_ID</th>\n",
       "      <th>gender</th>\n",
       "      <th>DateOfBirth</th>\n",
       "      <th>State</th>\n",
       "      <th>Contact</th>\n",
       "      <th>Segment</th>\n",
       "    </tr>\n",
       "  </thead>\n",
       "  <tbody>\n",
       "    <tr>\n",
       "      <th>0</th>\n",
       "      <td>54004764</td>\n",
       "      <td>21868593</td>\n",
       "      <td>Driver error</td>\n",
       "      <td>11/27/2017</td>\n",
       "      <td>Auto</td>\n",
       "      <td>No</td>\n",
       "      <td>Material only</td>\n",
       "      <td>$2980</td>\n",
       "      <td>1.0</td>\n",
       "      <td>No</td>\n",
       "      <td>21868593</td>\n",
       "      <td>Female</td>\n",
       "      <td>12-Jan-79</td>\n",
       "      <td>VT</td>\n",
       "      <td>789-916-8172</td>\n",
       "      <td>Platinum</td>\n",
       "    </tr>\n",
       "    <tr>\n",
       "      <th>1</th>\n",
       "      <td>33985796</td>\n",
       "      <td>75740424</td>\n",
       "      <td>Crime</td>\n",
       "      <td>10/03/2018</td>\n",
       "      <td>Home</td>\n",
       "      <td>Unknown</td>\n",
       "      <td>Material only</td>\n",
       "      <td>$2980</td>\n",
       "      <td>3.0</td>\n",
       "      <td>No</td>\n",
       "      <td>75740424</td>\n",
       "      <td>Female</td>\n",
       "      <td>13-Jan-70</td>\n",
       "      <td>ME</td>\n",
       "      <td>265-543-1264</td>\n",
       "      <td>Silver</td>\n",
       "    </tr>\n",
       "    <tr>\n",
       "      <th>2</th>\n",
       "      <td>53522022</td>\n",
       "      <td>30308357</td>\n",
       "      <td>Other driver error</td>\n",
       "      <td>02/02/2018</td>\n",
       "      <td>Auto</td>\n",
       "      <td>No</td>\n",
       "      <td>Material only</td>\n",
       "      <td>$3369.5</td>\n",
       "      <td>1.0</td>\n",
       "      <td>Yes</td>\n",
       "      <td>30308357</td>\n",
       "      <td>Female</td>\n",
       "      <td>11-Mar-84</td>\n",
       "      <td>TN</td>\n",
       "      <td>798-631-4758</td>\n",
       "      <td>Silver</td>\n",
       "    </tr>\n",
       "    <tr>\n",
       "      <th>3</th>\n",
       "      <td>63017412</td>\n",
       "      <td>30308357</td>\n",
       "      <td>Driver error</td>\n",
       "      <td>04/04/2018</td>\n",
       "      <td>Auto</td>\n",
       "      <td>No</td>\n",
       "      <td>Material only</td>\n",
       "      <td>$1950</td>\n",
       "      <td>6.0</td>\n",
       "      <td>No</td>\n",
       "      <td>30308357</td>\n",
       "      <td>Female</td>\n",
       "      <td>11-Mar-84</td>\n",
       "      <td>TN</td>\n",
       "      <td>798-631-4758</td>\n",
       "      <td>Silver</td>\n",
       "    </tr>\n",
       "    <tr>\n",
       "      <th>4</th>\n",
       "      <td>13015401</td>\n",
       "      <td>47830476</td>\n",
       "      <td>Natural causes</td>\n",
       "      <td>06/17/2018</td>\n",
       "      <td>Auto</td>\n",
       "      <td>No</td>\n",
       "      <td>Material only</td>\n",
       "      <td>$1680</td>\n",
       "      <td>1.0</td>\n",
       "      <td>No</td>\n",
       "      <td>47830476</td>\n",
       "      <td>Female</td>\n",
       "      <td>01-May-86</td>\n",
       "      <td>MA</td>\n",
       "      <td>413-187-7945</td>\n",
       "      <td>Silver</td>\n",
       "    </tr>\n",
       "    <tr>\n",
       "      <th>...</th>\n",
       "      <td>...</td>\n",
       "      <td>...</td>\n",
       "      <td>...</td>\n",
       "      <td>...</td>\n",
       "      <td>...</td>\n",
       "      <td>...</td>\n",
       "      <td>...</td>\n",
       "      <td>...</td>\n",
       "      <td>...</td>\n",
       "      <td>...</td>\n",
       "      <td>...</td>\n",
       "      <td>...</td>\n",
       "      <td>...</td>\n",
       "      <td>...</td>\n",
       "      <td>...</td>\n",
       "      <td>...</td>\n",
       "    </tr>\n",
       "    <tr>\n",
       "      <th>1080</th>\n",
       "      <td>62020796</td>\n",
       "      <td>79539873</td>\n",
       "      <td>Other driver error</td>\n",
       "      <td>09/06/2018</td>\n",
       "      <td>Auto</td>\n",
       "      <td>Yes</td>\n",
       "      <td>Material only</td>\n",
       "      <td>$1770</td>\n",
       "      <td>1.0</td>\n",
       "      <td>No</td>\n",
       "      <td>79539873</td>\n",
       "      <td>Female</td>\n",
       "      <td>15-Mar-81</td>\n",
       "      <td>ND</td>\n",
       "      <td>459-425-4319</td>\n",
       "      <td>Platinum</td>\n",
       "    </tr>\n",
       "    <tr>\n",
       "      <th>1081</th>\n",
       "      <td>63269067</td>\n",
       "      <td>42364152</td>\n",
       "      <td>Other causes</td>\n",
       "      <td>05/09/2017</td>\n",
       "      <td>Home</td>\n",
       "      <td>No</td>\n",
       "      <td>Material only</td>\n",
       "      <td>$2800</td>\n",
       "      <td>1.0</td>\n",
       "      <td>No</td>\n",
       "      <td>42364152</td>\n",
       "      <td>Female</td>\n",
       "      <td>07-Jul-96</td>\n",
       "      <td>ID</td>\n",
       "      <td>529-462-1635</td>\n",
       "      <td>Silver</td>\n",
       "    </tr>\n",
       "    <tr>\n",
       "      <th>1082</th>\n",
       "      <td>22690595</td>\n",
       "      <td>19888166</td>\n",
       "      <td>Other driver error</td>\n",
       "      <td>05/15/2017</td>\n",
       "      <td>Auto</td>\n",
       "      <td>Yes</td>\n",
       "      <td>Injury only</td>\n",
       "      <td>$33080</td>\n",
       "      <td>2.0</td>\n",
       "      <td>No</td>\n",
       "      <td>19888166</td>\n",
       "      <td>Male</td>\n",
       "      <td>11-Apr-90</td>\n",
       "      <td>WI</td>\n",
       "      <td>712-651-9613</td>\n",
       "      <td>Gold</td>\n",
       "    </tr>\n",
       "    <tr>\n",
       "      <th>1083</th>\n",
       "      <td>12376894</td>\n",
       "      <td>11256802</td>\n",
       "      <td>Other driver error</td>\n",
       "      <td>04/18/2017</td>\n",
       "      <td>Auto</td>\n",
       "      <td>No</td>\n",
       "      <td>Material only</td>\n",
       "      <td>$2840</td>\n",
       "      <td>4.0</td>\n",
       "      <td>No</td>\n",
       "      <td>11256802</td>\n",
       "      <td>Female</td>\n",
       "      <td>22-Oct-64</td>\n",
       "      <td>LA</td>\n",
       "      <td>469-345-5617</td>\n",
       "      <td>Silver</td>\n",
       "    </tr>\n",
       "    <tr>\n",
       "      <th>1084</th>\n",
       "      <td>63226031</td>\n",
       "      <td>61575264</td>\n",
       "      <td>Natural causes</td>\n",
       "      <td>03/16/2017</td>\n",
       "      <td>Auto</td>\n",
       "      <td>No</td>\n",
       "      <td>Material only</td>\n",
       "      <td>$1490</td>\n",
       "      <td>1.0</td>\n",
       "      <td>No</td>\n",
       "      <td>61575264</td>\n",
       "      <td>Male</td>\n",
       "      <td>12-Jul-95</td>\n",
       "      <td>WY</td>\n",
       "      <td>182-385-1392</td>\n",
       "      <td>Gold</td>\n",
       "    </tr>\n",
       "  </tbody>\n",
       "</table>\n",
       "<p>1085 rows × 16 columns</p>\n",
       "</div>"
      ],
      "text/plain": [
       "      claim_id  customer_id      incident_cause  claim_date claim_area  \\\n",
       "0     54004764     21868593        Driver error  11/27/2017       Auto   \n",
       "1     33985796     75740424               Crime  10/03/2018       Home   \n",
       "2     53522022     30308357  Other driver error  02/02/2018       Auto   \n",
       "3     63017412     30308357        Driver error  04/04/2018       Auto   \n",
       "4     13015401     47830476      Natural causes  06/17/2018       Auto   \n",
       "...        ...          ...                 ...         ...        ...   \n",
       "1080  62020796     79539873  Other driver error  09/06/2018       Auto   \n",
       "1081  63269067     42364152        Other causes  05/09/2017       Home   \n",
       "1082  22690595     19888166  Other driver error  05/15/2017       Auto   \n",
       "1083  12376894     11256802  Other driver error  04/18/2017       Auto   \n",
       "1084  63226031     61575264      Natural causes  03/16/2017       Auto   \n",
       "\n",
       "     police_report     claim_type claim_amount  total_policy_claims  \\\n",
       "0               No  Material only        $2980                  1.0   \n",
       "1          Unknown  Material only        $2980                  3.0   \n",
       "2               No  Material only      $3369.5                  1.0   \n",
       "3               No  Material only        $1950                  6.0   \n",
       "4               No  Material only        $1680                  1.0   \n",
       "...            ...            ...          ...                  ...   \n",
       "1080           Yes  Material only        $1770                  1.0   \n",
       "1081            No  Material only        $2800                  1.0   \n",
       "1082           Yes    Injury only       $33080                  2.0   \n",
       "1083            No  Material only        $2840                  4.0   \n",
       "1084            No  Material only        $1490                  1.0   \n",
       "\n",
       "     fraudulent   CUST_ID  gender DateOfBirth State       Contact   Segment  \n",
       "0            No  21868593  Female   12-Jan-79    VT  789-916-8172  Platinum  \n",
       "1            No  75740424  Female   13-Jan-70    ME  265-543-1264    Silver  \n",
       "2           Yes  30308357  Female   11-Mar-84    TN  798-631-4758    Silver  \n",
       "3            No  30308357  Female   11-Mar-84    TN  798-631-4758    Silver  \n",
       "4            No  47830476  Female   01-May-86    MA  413-187-7945    Silver  \n",
       "...         ...       ...     ...         ...   ...           ...       ...  \n",
       "1080         No  79539873  Female   15-Mar-81    ND  459-425-4319  Platinum  \n",
       "1081         No  42364152  Female   07-Jul-96    ID  529-462-1635    Silver  \n",
       "1082         No  19888166    Male   11-Apr-90    WI  712-651-9613      Gold  \n",
       "1083         No  11256802  Female   22-Oct-64    LA  469-345-5617    Silver  \n",
       "1084         No  61575264    Male   12-Jul-95    WY  182-385-1392      Gold  \n",
       "\n",
       "[1085 rows x 16 columns]"
      ]
     },
     "execution_count": 89,
     "metadata": {},
     "output_type": "execute_result"
    }
   ],
   "source": [
    "insurance_data"
   ]
  },
  {
   "cell_type": "markdown",
   "id": "0d14eda8",
   "metadata": {},
   "source": [
    "##### 2. Perform a data audit for the datatypes and find out if there are any\n",
    "##### mismatch within the current datatypes of the columns and their\n",
    "##### business significance."
   ]
  },
  {
   "cell_type": "code",
   "execution_count": 90,
   "id": "b99543d2",
   "metadata": {},
   "outputs": [
    {
     "data": {
      "text/plain": [
       "(1085, 16)"
      ]
     },
     "execution_count": 90,
     "metadata": {},
     "output_type": "execute_result"
    }
   ],
   "source": [
    "insurance_data.shape"
   ]
  },
  {
   "cell_type": "code",
   "execution_count": 91,
   "id": "1a44b17b",
   "metadata": {},
   "outputs": [
    {
     "name": "stdout",
     "output_type": "stream",
     "text": [
      "<class 'pandas.core.frame.DataFrame'>\n",
      "Int64Index: 1085 entries, 0 to 1084\n",
      "Data columns (total 16 columns):\n",
      " #   Column               Non-Null Count  Dtype  \n",
      "---  ------               --------------  -----  \n",
      " 0   claim_id             1085 non-null   int64  \n",
      " 1   customer_id          1085 non-null   int64  \n",
      " 2   incident_cause       1085 non-null   object \n",
      " 3   claim_date           1085 non-null   object \n",
      " 4   claim_area           1085 non-null   object \n",
      " 5   police_report        1085 non-null   object \n",
      " 6   claim_type           1085 non-null   object \n",
      " 7   claim_amount         1020 non-null   object \n",
      " 8   total_policy_claims  1075 non-null   float64\n",
      " 9   fraudulent           1085 non-null   object \n",
      " 10  CUST_ID              1085 non-null   int64  \n",
      " 11  gender               1085 non-null   object \n",
      " 12  DateOfBirth          1085 non-null   object \n",
      " 13  State                1085 non-null   object \n",
      " 14  Contact              1085 non-null   object \n",
      " 15  Segment              1085 non-null   object \n",
      "dtypes: float64(1), int64(3), object(12)\n",
      "memory usage: 144.1+ KB\n"
     ]
    }
   ],
   "source": [
    "insurance_data.info()"
   ]
  },
  {
   "cell_type": "code",
   "execution_count": 92,
   "id": "10714d55",
   "metadata": {},
   "outputs": [
    {
     "data": {
      "text/html": [
       "<div>\n",
       "<style scoped>\n",
       "    .dataframe tbody tr th:only-of-type {\n",
       "        vertical-align: middle;\n",
       "    }\n",
       "\n",
       "    .dataframe tbody tr th {\n",
       "        vertical-align: top;\n",
       "    }\n",
       "\n",
       "    .dataframe thead th {\n",
       "        text-align: right;\n",
       "    }\n",
       "</style>\n",
       "<table border=\"1\" class=\"dataframe\">\n",
       "  <thead>\n",
       "    <tr style=\"text-align: right;\">\n",
       "      <th></th>\n",
       "      <th>claim_id</th>\n",
       "      <th>customer_id</th>\n",
       "      <th>total_policy_claims</th>\n",
       "      <th>CUST_ID</th>\n",
       "    </tr>\n",
       "  </thead>\n",
       "  <tbody>\n",
       "    <tr>\n",
       "      <th>0</th>\n",
       "      <td>54004764</td>\n",
       "      <td>21868593</td>\n",
       "      <td>1.0</td>\n",
       "      <td>21868593</td>\n",
       "    </tr>\n",
       "    <tr>\n",
       "      <th>1</th>\n",
       "      <td>33985796</td>\n",
       "      <td>75740424</td>\n",
       "      <td>3.0</td>\n",
       "      <td>75740424</td>\n",
       "    </tr>\n",
       "    <tr>\n",
       "      <th>2</th>\n",
       "      <td>53522022</td>\n",
       "      <td>30308357</td>\n",
       "      <td>1.0</td>\n",
       "      <td>30308357</td>\n",
       "    </tr>\n",
       "    <tr>\n",
       "      <th>3</th>\n",
       "      <td>63017412</td>\n",
       "      <td>30308357</td>\n",
       "      <td>6.0</td>\n",
       "      <td>30308357</td>\n",
       "    </tr>\n",
       "    <tr>\n",
       "      <th>4</th>\n",
       "      <td>13015401</td>\n",
       "      <td>47830476</td>\n",
       "      <td>1.0</td>\n",
       "      <td>47830476</td>\n",
       "    </tr>\n",
       "    <tr>\n",
       "      <th>...</th>\n",
       "      <td>...</td>\n",
       "      <td>...</td>\n",
       "      <td>...</td>\n",
       "      <td>...</td>\n",
       "    </tr>\n",
       "    <tr>\n",
       "      <th>1080</th>\n",
       "      <td>62020796</td>\n",
       "      <td>79539873</td>\n",
       "      <td>1.0</td>\n",
       "      <td>79539873</td>\n",
       "    </tr>\n",
       "    <tr>\n",
       "      <th>1081</th>\n",
       "      <td>63269067</td>\n",
       "      <td>42364152</td>\n",
       "      <td>1.0</td>\n",
       "      <td>42364152</td>\n",
       "    </tr>\n",
       "    <tr>\n",
       "      <th>1082</th>\n",
       "      <td>22690595</td>\n",
       "      <td>19888166</td>\n",
       "      <td>2.0</td>\n",
       "      <td>19888166</td>\n",
       "    </tr>\n",
       "    <tr>\n",
       "      <th>1083</th>\n",
       "      <td>12376894</td>\n",
       "      <td>11256802</td>\n",
       "      <td>4.0</td>\n",
       "      <td>11256802</td>\n",
       "    </tr>\n",
       "    <tr>\n",
       "      <th>1084</th>\n",
       "      <td>63226031</td>\n",
       "      <td>61575264</td>\n",
       "      <td>1.0</td>\n",
       "      <td>61575264</td>\n",
       "    </tr>\n",
       "  </tbody>\n",
       "</table>\n",
       "<p>1085 rows × 4 columns</p>\n",
       "</div>"
      ],
      "text/plain": [
       "      claim_id  customer_id  total_policy_claims   CUST_ID\n",
       "0     54004764     21868593                  1.0  21868593\n",
       "1     33985796     75740424                  3.0  75740424\n",
       "2     53522022     30308357                  1.0  30308357\n",
       "3     63017412     30308357                  6.0  30308357\n",
       "4     13015401     47830476                  1.0  47830476\n",
       "...        ...          ...                  ...       ...\n",
       "1080  62020796     79539873                  1.0  79539873\n",
       "1081  63269067     42364152                  1.0  42364152\n",
       "1082  22690595     19888166                  2.0  19888166\n",
       "1083  12376894     11256802                  4.0  11256802\n",
       "1084  63226031     61575264                  1.0  61575264\n",
       "\n",
       "[1085 rows x 4 columns]"
      ]
     },
     "execution_count": 92,
     "metadata": {},
     "output_type": "execute_result"
    }
   ],
   "source": [
    "insurance_data.select_dtypes(include = [\"int\", \"float\"])"
   ]
  },
  {
   "cell_type": "code",
   "execution_count": 93,
   "id": "9f419a97",
   "metadata": {},
   "outputs": [
    {
     "data": {
      "text/html": [
       "<div>\n",
       "<style scoped>\n",
       "    .dataframe tbody tr th:only-of-type {\n",
       "        vertical-align: middle;\n",
       "    }\n",
       "\n",
       "    .dataframe tbody tr th {\n",
       "        vertical-align: top;\n",
       "    }\n",
       "\n",
       "    .dataframe thead th {\n",
       "        text-align: right;\n",
       "    }\n",
       "</style>\n",
       "<table border=\"1\" class=\"dataframe\">\n",
       "  <thead>\n",
       "    <tr style=\"text-align: right;\">\n",
       "      <th></th>\n",
       "      <th>incident_cause</th>\n",
       "      <th>claim_date</th>\n",
       "      <th>claim_area</th>\n",
       "      <th>police_report</th>\n",
       "      <th>claim_type</th>\n",
       "      <th>claim_amount</th>\n",
       "      <th>fraudulent</th>\n",
       "      <th>gender</th>\n",
       "      <th>DateOfBirth</th>\n",
       "      <th>State</th>\n",
       "      <th>Contact</th>\n",
       "      <th>Segment</th>\n",
       "    </tr>\n",
       "  </thead>\n",
       "  <tbody>\n",
       "    <tr>\n",
       "      <th>0</th>\n",
       "      <td>Driver error</td>\n",
       "      <td>11/27/2017</td>\n",
       "      <td>Auto</td>\n",
       "      <td>No</td>\n",
       "      <td>Material only</td>\n",
       "      <td>$2980</td>\n",
       "      <td>No</td>\n",
       "      <td>Female</td>\n",
       "      <td>12-Jan-79</td>\n",
       "      <td>VT</td>\n",
       "      <td>789-916-8172</td>\n",
       "      <td>Platinum</td>\n",
       "    </tr>\n",
       "    <tr>\n",
       "      <th>1</th>\n",
       "      <td>Crime</td>\n",
       "      <td>10/03/2018</td>\n",
       "      <td>Home</td>\n",
       "      <td>Unknown</td>\n",
       "      <td>Material only</td>\n",
       "      <td>$2980</td>\n",
       "      <td>No</td>\n",
       "      <td>Female</td>\n",
       "      <td>13-Jan-70</td>\n",
       "      <td>ME</td>\n",
       "      <td>265-543-1264</td>\n",
       "      <td>Silver</td>\n",
       "    </tr>\n",
       "    <tr>\n",
       "      <th>2</th>\n",
       "      <td>Other driver error</td>\n",
       "      <td>02/02/2018</td>\n",
       "      <td>Auto</td>\n",
       "      <td>No</td>\n",
       "      <td>Material only</td>\n",
       "      <td>$3369.5</td>\n",
       "      <td>Yes</td>\n",
       "      <td>Female</td>\n",
       "      <td>11-Mar-84</td>\n",
       "      <td>TN</td>\n",
       "      <td>798-631-4758</td>\n",
       "      <td>Silver</td>\n",
       "    </tr>\n",
       "    <tr>\n",
       "      <th>3</th>\n",
       "      <td>Driver error</td>\n",
       "      <td>04/04/2018</td>\n",
       "      <td>Auto</td>\n",
       "      <td>No</td>\n",
       "      <td>Material only</td>\n",
       "      <td>$1950</td>\n",
       "      <td>No</td>\n",
       "      <td>Female</td>\n",
       "      <td>11-Mar-84</td>\n",
       "      <td>TN</td>\n",
       "      <td>798-631-4758</td>\n",
       "      <td>Silver</td>\n",
       "    </tr>\n",
       "    <tr>\n",
       "      <th>4</th>\n",
       "      <td>Natural causes</td>\n",
       "      <td>06/17/2018</td>\n",
       "      <td>Auto</td>\n",
       "      <td>No</td>\n",
       "      <td>Material only</td>\n",
       "      <td>$1680</td>\n",
       "      <td>No</td>\n",
       "      <td>Female</td>\n",
       "      <td>01-May-86</td>\n",
       "      <td>MA</td>\n",
       "      <td>413-187-7945</td>\n",
       "      <td>Silver</td>\n",
       "    </tr>\n",
       "    <tr>\n",
       "      <th>...</th>\n",
       "      <td>...</td>\n",
       "      <td>...</td>\n",
       "      <td>...</td>\n",
       "      <td>...</td>\n",
       "      <td>...</td>\n",
       "      <td>...</td>\n",
       "      <td>...</td>\n",
       "      <td>...</td>\n",
       "      <td>...</td>\n",
       "      <td>...</td>\n",
       "      <td>...</td>\n",
       "      <td>...</td>\n",
       "    </tr>\n",
       "    <tr>\n",
       "      <th>1080</th>\n",
       "      <td>Other driver error</td>\n",
       "      <td>09/06/2018</td>\n",
       "      <td>Auto</td>\n",
       "      <td>Yes</td>\n",
       "      <td>Material only</td>\n",
       "      <td>$1770</td>\n",
       "      <td>No</td>\n",
       "      <td>Female</td>\n",
       "      <td>15-Mar-81</td>\n",
       "      <td>ND</td>\n",
       "      <td>459-425-4319</td>\n",
       "      <td>Platinum</td>\n",
       "    </tr>\n",
       "    <tr>\n",
       "      <th>1081</th>\n",
       "      <td>Other causes</td>\n",
       "      <td>05/09/2017</td>\n",
       "      <td>Home</td>\n",
       "      <td>No</td>\n",
       "      <td>Material only</td>\n",
       "      <td>$2800</td>\n",
       "      <td>No</td>\n",
       "      <td>Female</td>\n",
       "      <td>07-Jul-96</td>\n",
       "      <td>ID</td>\n",
       "      <td>529-462-1635</td>\n",
       "      <td>Silver</td>\n",
       "    </tr>\n",
       "    <tr>\n",
       "      <th>1082</th>\n",
       "      <td>Other driver error</td>\n",
       "      <td>05/15/2017</td>\n",
       "      <td>Auto</td>\n",
       "      <td>Yes</td>\n",
       "      <td>Injury only</td>\n",
       "      <td>$33080</td>\n",
       "      <td>No</td>\n",
       "      <td>Male</td>\n",
       "      <td>11-Apr-90</td>\n",
       "      <td>WI</td>\n",
       "      <td>712-651-9613</td>\n",
       "      <td>Gold</td>\n",
       "    </tr>\n",
       "    <tr>\n",
       "      <th>1083</th>\n",
       "      <td>Other driver error</td>\n",
       "      <td>04/18/2017</td>\n",
       "      <td>Auto</td>\n",
       "      <td>No</td>\n",
       "      <td>Material only</td>\n",
       "      <td>$2840</td>\n",
       "      <td>No</td>\n",
       "      <td>Female</td>\n",
       "      <td>22-Oct-64</td>\n",
       "      <td>LA</td>\n",
       "      <td>469-345-5617</td>\n",
       "      <td>Silver</td>\n",
       "    </tr>\n",
       "    <tr>\n",
       "      <th>1084</th>\n",
       "      <td>Natural causes</td>\n",
       "      <td>03/16/2017</td>\n",
       "      <td>Auto</td>\n",
       "      <td>No</td>\n",
       "      <td>Material only</td>\n",
       "      <td>$1490</td>\n",
       "      <td>No</td>\n",
       "      <td>Male</td>\n",
       "      <td>12-Jul-95</td>\n",
       "      <td>WY</td>\n",
       "      <td>182-385-1392</td>\n",
       "      <td>Gold</td>\n",
       "    </tr>\n",
       "  </tbody>\n",
       "</table>\n",
       "<p>1085 rows × 12 columns</p>\n",
       "</div>"
      ],
      "text/plain": [
       "          incident_cause  claim_date claim_area police_report     claim_type  \\\n",
       "0           Driver error  11/27/2017       Auto            No  Material only   \n",
       "1                  Crime  10/03/2018       Home       Unknown  Material only   \n",
       "2     Other driver error  02/02/2018       Auto            No  Material only   \n",
       "3           Driver error  04/04/2018       Auto            No  Material only   \n",
       "4         Natural causes  06/17/2018       Auto            No  Material only   \n",
       "...                  ...         ...        ...           ...            ...   \n",
       "1080  Other driver error  09/06/2018       Auto           Yes  Material only   \n",
       "1081        Other causes  05/09/2017       Home            No  Material only   \n",
       "1082  Other driver error  05/15/2017       Auto           Yes    Injury only   \n",
       "1083  Other driver error  04/18/2017       Auto            No  Material only   \n",
       "1084      Natural causes  03/16/2017       Auto            No  Material only   \n",
       "\n",
       "     claim_amount fraudulent  gender DateOfBirth State       Contact   Segment  \n",
       "0           $2980         No  Female   12-Jan-79    VT  789-916-8172  Platinum  \n",
       "1           $2980         No  Female   13-Jan-70    ME  265-543-1264    Silver  \n",
       "2         $3369.5        Yes  Female   11-Mar-84    TN  798-631-4758    Silver  \n",
       "3           $1950         No  Female   11-Mar-84    TN  798-631-4758    Silver  \n",
       "4           $1680         No  Female   01-May-86    MA  413-187-7945    Silver  \n",
       "...           ...        ...     ...         ...   ...           ...       ...  \n",
       "1080        $1770         No  Female   15-Mar-81    ND  459-425-4319  Platinum  \n",
       "1081        $2800         No  Female   07-Jul-96    ID  529-462-1635    Silver  \n",
       "1082       $33080         No    Male   11-Apr-90    WI  712-651-9613      Gold  \n",
       "1083        $2840         No  Female   22-Oct-64    LA  469-345-5617    Silver  \n",
       "1084        $1490         No    Male   12-Jul-95    WY  182-385-1392      Gold  \n",
       "\n",
       "[1085 rows x 12 columns]"
      ]
     },
     "execution_count": 93,
     "metadata": {},
     "output_type": "execute_result"
    }
   ],
   "source": [
    "insurance_data.select_dtypes(exclude = [\"int\", \"float\"])   "
   ]
  },
  {
   "cell_type": "code",
   "execution_count": 94,
   "id": "26bb7083",
   "metadata": {},
   "outputs": [
    {
     "data": {
      "text/plain": [
       "claim_id                0\n",
       "customer_id             0\n",
       "incident_cause          0\n",
       "claim_date              0\n",
       "claim_area              0\n",
       "police_report           0\n",
       "claim_type              0\n",
       "claim_amount           65\n",
       "total_policy_claims    10\n",
       "fraudulent              0\n",
       "CUST_ID                 0\n",
       "gender                  0\n",
       "DateOfBirth             0\n",
       "State                   0\n",
       "Contact                 0\n",
       "Segment                 0\n",
       "dtype: int64"
      ]
     },
     "execution_count": 94,
     "metadata": {},
     "output_type": "execute_result"
    }
   ],
   "source": [
    "insurance_data.isna().sum()"
   ]
  },
  {
   "cell_type": "code",
   "execution_count": 95,
   "id": "df173595",
   "metadata": {},
   "outputs": [
    {
     "data": {
      "text/plain": [
       "claim_id               1085\n",
       "customer_id            1078\n",
       "incident_cause            5\n",
       "claim_date              100\n",
       "claim_area                2\n",
       "police_report             3\n",
       "claim_type                3\n",
       "claim_amount            676\n",
       "total_policy_claims       8\n",
       "fraudulent                2\n",
       "CUST_ID                1078\n",
       "gender                    2\n",
       "DateOfBirth            1078\n",
       "State                    50\n",
       "Contact                1078\n",
       "Segment                   3\n",
       "dtype: int64"
      ]
     },
     "execution_count": 95,
     "metadata": {},
     "output_type": "execute_result"
    }
   ],
   "source": [
    "insurance_data.nunique()"
   ]
  },
  {
   "cell_type": "markdown",
   "id": "17dacd77",
   "metadata": {},
   "source": [
    "##### 3. Convert the column claim_amount to numeric. Use the appropriate\n",
    "##### modules/attributes to remove the $ sign."
   ]
  },
  {
   "cell_type": "code",
   "execution_count": 96,
   "id": "0e12d4dd",
   "metadata": {},
   "outputs": [
    {
     "name": "stderr",
     "output_type": "stream",
     "text": [
      "C:\\Users\\SANAM KANDAR\\AppData\\Local\\Temp\\ipykernel_13500\\429667517.py:1: FutureWarning: The default value of regex will change from True to False in a future version. In addition, single character regular expressions will *not* be treated as literal strings when regex=True.\n",
      "  insurance_data[\"claim_amount\"] = insurance_data[\"claim_amount\"].str.replace(\"$\", \"\").astype(\"float64\")\n"
     ]
    }
   ],
   "source": [
    "insurance_data[\"claim_amount\"] = insurance_data[\"claim_amount\"].str.replace(\"$\", \"\").astype(\"float64\")"
   ]
  },
  {
   "cell_type": "markdown",
   "id": "060120ba",
   "metadata": {},
   "source": [
    "##### 4. Of all the injury claims, some of them have gone unreported with the\n",
    "##### police. Create an alert flag (1,0) for all such claims."
   ]
  },
  {
   "cell_type": "code",
   "execution_count": 97,
   "id": "6ebb99b2",
   "metadata": {},
   "outputs": [],
   "source": [
    "insurance_data[\"Alert_flag\"] = np.where((insurance_data.claim_type==\"Injury only\") & \n",
    "                                        (insurance_data.police_report==\"No\"), 1 , 0 )"
   ]
  },
  {
   "cell_type": "code",
   "execution_count": 98,
   "id": "f15114e6",
   "metadata": {
    "scrolled": false
   },
   "outputs": [
    {
     "data": {
      "text/html": [
       "<div>\n",
       "<style scoped>\n",
       "    .dataframe tbody tr th:only-of-type {\n",
       "        vertical-align: middle;\n",
       "    }\n",
       "\n",
       "    .dataframe tbody tr th {\n",
       "        vertical-align: top;\n",
       "    }\n",
       "\n",
       "    .dataframe thead th {\n",
       "        text-align: right;\n",
       "    }\n",
       "</style>\n",
       "<table border=\"1\" class=\"dataframe\">\n",
       "  <thead>\n",
       "    <tr style=\"text-align: right;\">\n",
       "      <th></th>\n",
       "      <th>claim_id</th>\n",
       "      <th>customer_id</th>\n",
       "      <th>incident_cause</th>\n",
       "      <th>claim_date</th>\n",
       "      <th>claim_area</th>\n",
       "      <th>police_report</th>\n",
       "      <th>claim_type</th>\n",
       "      <th>claim_amount</th>\n",
       "      <th>total_policy_claims</th>\n",
       "      <th>fraudulent</th>\n",
       "      <th>CUST_ID</th>\n",
       "      <th>gender</th>\n",
       "      <th>DateOfBirth</th>\n",
       "      <th>State</th>\n",
       "      <th>Contact</th>\n",
       "      <th>Segment</th>\n",
       "      <th>Alert_flag</th>\n",
       "    </tr>\n",
       "  </thead>\n",
       "  <tbody>\n",
       "    <tr>\n",
       "      <th>0</th>\n",
       "      <td>54004764</td>\n",
       "      <td>21868593</td>\n",
       "      <td>Driver error</td>\n",
       "      <td>11/27/2017</td>\n",
       "      <td>Auto</td>\n",
       "      <td>No</td>\n",
       "      <td>Material only</td>\n",
       "      <td>2980.0</td>\n",
       "      <td>1.0</td>\n",
       "      <td>No</td>\n",
       "      <td>21868593</td>\n",
       "      <td>Female</td>\n",
       "      <td>12-Jan-79</td>\n",
       "      <td>VT</td>\n",
       "      <td>789-916-8172</td>\n",
       "      <td>Platinum</td>\n",
       "      <td>0</td>\n",
       "    </tr>\n",
       "    <tr>\n",
       "      <th>1</th>\n",
       "      <td>33985796</td>\n",
       "      <td>75740424</td>\n",
       "      <td>Crime</td>\n",
       "      <td>10/03/2018</td>\n",
       "      <td>Home</td>\n",
       "      <td>Unknown</td>\n",
       "      <td>Material only</td>\n",
       "      <td>2980.0</td>\n",
       "      <td>3.0</td>\n",
       "      <td>No</td>\n",
       "      <td>75740424</td>\n",
       "      <td>Female</td>\n",
       "      <td>13-Jan-70</td>\n",
       "      <td>ME</td>\n",
       "      <td>265-543-1264</td>\n",
       "      <td>Silver</td>\n",
       "      <td>0</td>\n",
       "    </tr>\n",
       "    <tr>\n",
       "      <th>2</th>\n",
       "      <td>53522022</td>\n",
       "      <td>30308357</td>\n",
       "      <td>Other driver error</td>\n",
       "      <td>02/02/2018</td>\n",
       "      <td>Auto</td>\n",
       "      <td>No</td>\n",
       "      <td>Material only</td>\n",
       "      <td>3369.5</td>\n",
       "      <td>1.0</td>\n",
       "      <td>Yes</td>\n",
       "      <td>30308357</td>\n",
       "      <td>Female</td>\n",
       "      <td>11-Mar-84</td>\n",
       "      <td>TN</td>\n",
       "      <td>798-631-4758</td>\n",
       "      <td>Silver</td>\n",
       "      <td>0</td>\n",
       "    </tr>\n",
       "    <tr>\n",
       "      <th>3</th>\n",
       "      <td>63017412</td>\n",
       "      <td>30308357</td>\n",
       "      <td>Driver error</td>\n",
       "      <td>04/04/2018</td>\n",
       "      <td>Auto</td>\n",
       "      <td>No</td>\n",
       "      <td>Material only</td>\n",
       "      <td>1950.0</td>\n",
       "      <td>6.0</td>\n",
       "      <td>No</td>\n",
       "      <td>30308357</td>\n",
       "      <td>Female</td>\n",
       "      <td>11-Mar-84</td>\n",
       "      <td>TN</td>\n",
       "      <td>798-631-4758</td>\n",
       "      <td>Silver</td>\n",
       "      <td>0</td>\n",
       "    </tr>\n",
       "    <tr>\n",
       "      <th>4</th>\n",
       "      <td>13015401</td>\n",
       "      <td>47830476</td>\n",
       "      <td>Natural causes</td>\n",
       "      <td>06/17/2018</td>\n",
       "      <td>Auto</td>\n",
       "      <td>No</td>\n",
       "      <td>Material only</td>\n",
       "      <td>1680.0</td>\n",
       "      <td>1.0</td>\n",
       "      <td>No</td>\n",
       "      <td>47830476</td>\n",
       "      <td>Female</td>\n",
       "      <td>01-May-86</td>\n",
       "      <td>MA</td>\n",
       "      <td>413-187-7945</td>\n",
       "      <td>Silver</td>\n",
       "      <td>0</td>\n",
       "    </tr>\n",
       "    <tr>\n",
       "      <th>...</th>\n",
       "      <td>...</td>\n",
       "      <td>...</td>\n",
       "      <td>...</td>\n",
       "      <td>...</td>\n",
       "      <td>...</td>\n",
       "      <td>...</td>\n",
       "      <td>...</td>\n",
       "      <td>...</td>\n",
       "      <td>...</td>\n",
       "      <td>...</td>\n",
       "      <td>...</td>\n",
       "      <td>...</td>\n",
       "      <td>...</td>\n",
       "      <td>...</td>\n",
       "      <td>...</td>\n",
       "      <td>...</td>\n",
       "      <td>...</td>\n",
       "    </tr>\n",
       "    <tr>\n",
       "      <th>1080</th>\n",
       "      <td>62020796</td>\n",
       "      <td>79539873</td>\n",
       "      <td>Other driver error</td>\n",
       "      <td>09/06/2018</td>\n",
       "      <td>Auto</td>\n",
       "      <td>Yes</td>\n",
       "      <td>Material only</td>\n",
       "      <td>1770.0</td>\n",
       "      <td>1.0</td>\n",
       "      <td>No</td>\n",
       "      <td>79539873</td>\n",
       "      <td>Female</td>\n",
       "      <td>15-Mar-81</td>\n",
       "      <td>ND</td>\n",
       "      <td>459-425-4319</td>\n",
       "      <td>Platinum</td>\n",
       "      <td>0</td>\n",
       "    </tr>\n",
       "    <tr>\n",
       "      <th>1081</th>\n",
       "      <td>63269067</td>\n",
       "      <td>42364152</td>\n",
       "      <td>Other causes</td>\n",
       "      <td>05/09/2017</td>\n",
       "      <td>Home</td>\n",
       "      <td>No</td>\n",
       "      <td>Material only</td>\n",
       "      <td>2800.0</td>\n",
       "      <td>1.0</td>\n",
       "      <td>No</td>\n",
       "      <td>42364152</td>\n",
       "      <td>Female</td>\n",
       "      <td>07-Jul-96</td>\n",
       "      <td>ID</td>\n",
       "      <td>529-462-1635</td>\n",
       "      <td>Silver</td>\n",
       "      <td>0</td>\n",
       "    </tr>\n",
       "    <tr>\n",
       "      <th>1082</th>\n",
       "      <td>22690595</td>\n",
       "      <td>19888166</td>\n",
       "      <td>Other driver error</td>\n",
       "      <td>05/15/2017</td>\n",
       "      <td>Auto</td>\n",
       "      <td>Yes</td>\n",
       "      <td>Injury only</td>\n",
       "      <td>33080.0</td>\n",
       "      <td>2.0</td>\n",
       "      <td>No</td>\n",
       "      <td>19888166</td>\n",
       "      <td>Male</td>\n",
       "      <td>11-Apr-90</td>\n",
       "      <td>WI</td>\n",
       "      <td>712-651-9613</td>\n",
       "      <td>Gold</td>\n",
       "      <td>0</td>\n",
       "    </tr>\n",
       "    <tr>\n",
       "      <th>1083</th>\n",
       "      <td>12376894</td>\n",
       "      <td>11256802</td>\n",
       "      <td>Other driver error</td>\n",
       "      <td>04/18/2017</td>\n",
       "      <td>Auto</td>\n",
       "      <td>No</td>\n",
       "      <td>Material only</td>\n",
       "      <td>2840.0</td>\n",
       "      <td>4.0</td>\n",
       "      <td>No</td>\n",
       "      <td>11256802</td>\n",
       "      <td>Female</td>\n",
       "      <td>22-Oct-64</td>\n",
       "      <td>LA</td>\n",
       "      <td>469-345-5617</td>\n",
       "      <td>Silver</td>\n",
       "      <td>0</td>\n",
       "    </tr>\n",
       "    <tr>\n",
       "      <th>1084</th>\n",
       "      <td>63226031</td>\n",
       "      <td>61575264</td>\n",
       "      <td>Natural causes</td>\n",
       "      <td>03/16/2017</td>\n",
       "      <td>Auto</td>\n",
       "      <td>No</td>\n",
       "      <td>Material only</td>\n",
       "      <td>1490.0</td>\n",
       "      <td>1.0</td>\n",
       "      <td>No</td>\n",
       "      <td>61575264</td>\n",
       "      <td>Male</td>\n",
       "      <td>12-Jul-95</td>\n",
       "      <td>WY</td>\n",
       "      <td>182-385-1392</td>\n",
       "      <td>Gold</td>\n",
       "      <td>0</td>\n",
       "    </tr>\n",
       "  </tbody>\n",
       "</table>\n",
       "<p>1085 rows × 17 columns</p>\n",
       "</div>"
      ],
      "text/plain": [
       "      claim_id  customer_id      incident_cause  claim_date claim_area  \\\n",
       "0     54004764     21868593        Driver error  11/27/2017       Auto   \n",
       "1     33985796     75740424               Crime  10/03/2018       Home   \n",
       "2     53522022     30308357  Other driver error  02/02/2018       Auto   \n",
       "3     63017412     30308357        Driver error  04/04/2018       Auto   \n",
       "4     13015401     47830476      Natural causes  06/17/2018       Auto   \n",
       "...        ...          ...                 ...         ...        ...   \n",
       "1080  62020796     79539873  Other driver error  09/06/2018       Auto   \n",
       "1081  63269067     42364152        Other causes  05/09/2017       Home   \n",
       "1082  22690595     19888166  Other driver error  05/15/2017       Auto   \n",
       "1083  12376894     11256802  Other driver error  04/18/2017       Auto   \n",
       "1084  63226031     61575264      Natural causes  03/16/2017       Auto   \n",
       "\n",
       "     police_report     claim_type  claim_amount  total_policy_claims  \\\n",
       "0               No  Material only        2980.0                  1.0   \n",
       "1          Unknown  Material only        2980.0                  3.0   \n",
       "2               No  Material only        3369.5                  1.0   \n",
       "3               No  Material only        1950.0                  6.0   \n",
       "4               No  Material only        1680.0                  1.0   \n",
       "...            ...            ...           ...                  ...   \n",
       "1080           Yes  Material only        1770.0                  1.0   \n",
       "1081            No  Material only        2800.0                  1.0   \n",
       "1082           Yes    Injury only       33080.0                  2.0   \n",
       "1083            No  Material only        2840.0                  4.0   \n",
       "1084            No  Material only        1490.0                  1.0   \n",
       "\n",
       "     fraudulent   CUST_ID  gender DateOfBirth State       Contact   Segment  \\\n",
       "0            No  21868593  Female   12-Jan-79    VT  789-916-8172  Platinum   \n",
       "1            No  75740424  Female   13-Jan-70    ME  265-543-1264    Silver   \n",
       "2           Yes  30308357  Female   11-Mar-84    TN  798-631-4758    Silver   \n",
       "3            No  30308357  Female   11-Mar-84    TN  798-631-4758    Silver   \n",
       "4            No  47830476  Female   01-May-86    MA  413-187-7945    Silver   \n",
       "...         ...       ...     ...         ...   ...           ...       ...   \n",
       "1080         No  79539873  Female   15-Mar-81    ND  459-425-4319  Platinum   \n",
       "1081         No  42364152  Female   07-Jul-96    ID  529-462-1635    Silver   \n",
       "1082         No  19888166    Male   11-Apr-90    WI  712-651-9613      Gold   \n",
       "1083         No  11256802  Female   22-Oct-64    LA  469-345-5617    Silver   \n",
       "1084         No  61575264    Male   12-Jul-95    WY  182-385-1392      Gold   \n",
       "\n",
       "      Alert_flag  \n",
       "0              0  \n",
       "1              0  \n",
       "2              0  \n",
       "3              0  \n",
       "4              0  \n",
       "...          ...  \n",
       "1080           0  \n",
       "1081           0  \n",
       "1082           0  \n",
       "1083           0  \n",
       "1084           0  \n",
       "\n",
       "[1085 rows x 17 columns]"
      ]
     },
     "execution_count": 98,
     "metadata": {},
     "output_type": "execute_result"
    }
   ],
   "source": [
    "insurance_data"
   ]
  },
  {
   "cell_type": "markdown",
   "id": "ca96b507",
   "metadata": {},
   "source": [
    "### data cleaning steps needed to work with data"
   ]
  },
  {
   "cell_type": "code",
   "execution_count": 99,
   "id": "34517bf4",
   "metadata": {},
   "outputs": [],
   "source": [
    "# drop the duplicated columns\n",
    "\n",
    "insurance_data.drop(axis=1, columns=[\"CUST_ID\"], inplace=True)"
   ]
  },
  {
   "cell_type": "code",
   "execution_count": 100,
   "id": "aa37b629",
   "metadata": {},
   "outputs": [],
   "source": [
    "# capitalizing the all col names \n",
    "insurance_data.columns = insurance_data.columns.str.capitalize()"
   ]
  },
  {
   "cell_type": "code",
   "execution_count": null,
   "id": "afb8f63d",
   "metadata": {},
   "outputs": [],
   "source": []
  },
  {
   "cell_type": "markdown",
   "id": "bcf9f88f",
   "metadata": {},
   "source": [
    "#### 5. One customer can claim for insurance more than once and in each claim, multiple categories of claims can be involved. However, customer ID should remain unique."
   ]
  },
  {
   "cell_type": "code",
   "execution_count": 101,
   "id": "ab264c6f",
   "metadata": {
    "scrolled": false
   },
   "outputs": [],
   "source": [
    "#sorted the data to get the latest entries\n",
    "insurance_data.sort_values(by=\"Claim_date\", ignore_index=True, inplace=True)"
   ]
  },
  {
   "cell_type": "code",
   "execution_count": 102,
   "id": "416da183",
   "metadata": {},
   "outputs": [],
   "source": [
    "insurance_data.drop_duplicates(subset=\"Customer_id\", keep=\"last\", inplace=True, ignore_index=True)"
   ]
  },
  {
   "cell_type": "markdown",
   "id": "5d83bc6d",
   "metadata": {},
   "source": [
    "#### 6. Check for missing values and impute the missing values with an\n",
    "#### appropriate value. (mean for continuous and mode for categorical)"
   ]
  },
  {
   "cell_type": "code",
   "execution_count": 103,
   "id": "97fd94ba",
   "metadata": {},
   "outputs": [
    {
     "data": {
      "text/plain": [
       "Claim_id                0\n",
       "Customer_id             0\n",
       "Incident_cause          0\n",
       "Claim_date              0\n",
       "Claim_area              0\n",
       "Police_report           0\n",
       "Claim_type              0\n",
       "Claim_amount           65\n",
       "Total_policy_claims    10\n",
       "Fraudulent              0\n",
       "Gender                  0\n",
       "Dateofbirth             0\n",
       "State                   0\n",
       "Contact                 0\n",
       "Segment                 0\n",
       "Alert_flag              0\n",
       "dtype: int64"
      ]
     },
     "execution_count": 103,
     "metadata": {},
     "output_type": "execute_result"
    }
   ],
   "source": [
    "insurance_data.isna().sum()"
   ]
  },
  {
   "cell_type": "code",
   "execution_count": 104,
   "id": "20822bb1",
   "metadata": {},
   "outputs": [],
   "source": [
    "#continuous\n",
    "insurance_data.Claim_amount = np.where(insurance_data.Claim_amount.isna()==True, \n",
    "                                        np.round(insurance_data.Claim_amount.mean(), 1),\n",
    "                                        insurance_data.Claim_amount)"
   ]
  },
  {
   "cell_type": "code",
   "execution_count": 105,
   "id": "ac8e65ba",
   "metadata": {},
   "outputs": [
    {
     "data": {
      "text/plain": [
       "12480.9"
      ]
     },
     "execution_count": 105,
     "metadata": {},
     "output_type": "execute_result"
    }
   ],
   "source": [
    "np.round(insurance_data.Claim_amount.mean(), 1)"
   ]
  },
  {
   "cell_type": "code",
   "execution_count": 106,
   "id": "e3bc85e0",
   "metadata": {},
   "outputs": [
    {
     "data": {
      "text/plain": [
       "0"
      ]
     },
     "execution_count": 106,
     "metadata": {},
     "output_type": "execute_result"
    }
   ],
   "source": [
    "insurance_data.Claim_amount.isna().sum()"
   ]
  },
  {
   "cell_type": "code",
   "execution_count": 107,
   "id": "47f3f6cc",
   "metadata": {},
   "outputs": [],
   "source": [
    "#categorical\n",
    "insurance_data.Total_policy_claims = np.where( insurance_data.Total_policy_claims.isna()==True,\n",
    "                                              insurance_data.Total_policy_claims.mode(),\n",
    "                                              insurance_data.Total_policy_claims) "
   ]
  },
  {
   "cell_type": "code",
   "execution_count": 108,
   "id": "e320cb76",
   "metadata": {},
   "outputs": [
    {
     "data": {
      "text/plain": [
       "0    1.0\n",
       "Name: Total_policy_claims, dtype: float64"
      ]
     },
     "execution_count": 108,
     "metadata": {},
     "output_type": "execute_result"
    }
   ],
   "source": [
    "insurance_data.Total_policy_claims.mode()"
   ]
  },
  {
   "cell_type": "code",
   "execution_count": 109,
   "id": "7f49ba6e",
   "metadata": {},
   "outputs": [
    {
     "data": {
      "text/plain": [
       "0"
      ]
     },
     "execution_count": 109,
     "metadata": {},
     "output_type": "execute_result"
    }
   ],
   "source": [
    "insurance_data.Total_policy_claims.isna().sum()"
   ]
  },
  {
   "cell_type": "markdown",
   "id": "e27acf96",
   "metadata": {},
   "source": [
    "#### 7. Calculate the age of customers in years. Based on the age, categorize the\n",
    "#### customers according to the below criteria\n",
    "####         Children < 18\n",
    "####         Youth 18-30\n",
    "####         Adult 30-60\n",
    "####         Senior > 60"
   ]
  },
  {
   "cell_type": "code",
   "execution_count": 110,
   "id": "e4674623",
   "metadata": {},
   "outputs": [],
   "source": [
    "# modify the date columns "
   ]
  },
  {
   "cell_type": "code",
   "execution_count": 111,
   "id": "6b086291",
   "metadata": {},
   "outputs": [],
   "source": [
    "insurance_data.Claim_date =  pd.to_datetime(insurance_data.Claim_date, format=\"%m/%d/%Y\")"
   ]
  },
  {
   "cell_type": "code",
   "execution_count": 112,
   "id": "7e050fbb",
   "metadata": {},
   "outputs": [],
   "source": [
    "insurance_data.Dateofbirth = pd.to_datetime(insurance_data.Dateofbirth, format=\"%d-%b-%y\")"
   ]
  },
  {
   "cell_type": "code",
   "execution_count": 113,
   "id": "631d1c51",
   "metadata": {},
   "outputs": [],
   "source": [
    "insurance_data.Dateofbirth = np.where(insurance_data.Dateofbirth.dt.year>2000,\n",
    "                                      insurance_data.Dateofbirth + pd.DateOffset(years=-100),\n",
    "                                      insurance_data.Dateofbirth + pd.DateOffset(years=0)\n",
    "                                     )"
   ]
  },
  {
   "cell_type": "code",
   "execution_count": 114,
   "id": "00f8997a",
   "metadata": {},
   "outputs": [],
   "source": [
    "# calculated age\n",
    "insurance_data[\"Customer_age\"] = (insurance_data.Claim_date - insurance_data.Dateofbirth).apply(lambda x: round(x.days/365.25))"
   ]
  },
  {
   "cell_type": "code",
   "execution_count": 115,
   "id": "947c18db",
   "metadata": {},
   "outputs": [],
   "source": [
    "# categorize it into age group\n",
    "insurance_data[\"Age_group\"] = np.where(insurance_data.Customer_age<18, \"Children\",\n",
    "                                      np.where((insurance_data.Customer_age<30), \"Youth\",\n",
    "                                      np.where((insurance_data.Customer_age<60), \"Adult\", \"Senior\")))"
   ]
  },
  {
   "cell_type": "code",
   "execution_count": 116,
   "id": "ea319dd3",
   "metadata": {},
   "outputs": [
    {
     "data": {
      "text/plain": [
       "Adult       758\n",
       "Youth       318\n",
       "Children      2\n",
       "Name: Age_group, dtype: int64"
      ]
     },
     "execution_count": 116,
     "metadata": {},
     "output_type": "execute_result"
    }
   ],
   "source": [
    "insurance_data.Age_group.value_counts()"
   ]
  },
  {
   "cell_type": "markdown",
   "id": "f02bb9bc",
   "metadata": {},
   "source": [
    "#### 8. What is the average amount claimed by the customers from various\n",
    "#### segments?"
   ]
  },
  {
   "cell_type": "code",
   "execution_count": 117,
   "id": "fd25527f",
   "metadata": {},
   "outputs": [
    {
     "data": {
      "text/html": [
       "<div>\n",
       "<style scoped>\n",
       "    .dataframe tbody tr th:only-of-type {\n",
       "        vertical-align: middle;\n",
       "    }\n",
       "\n",
       "    .dataframe tbody tr th {\n",
       "        vertical-align: top;\n",
       "    }\n",
       "\n",
       "    .dataframe thead th {\n",
       "        text-align: right;\n",
       "    }\n",
       "</style>\n",
       "<table border=\"1\" class=\"dataframe\">\n",
       "  <thead>\n",
       "    <tr style=\"text-align: right;\">\n",
       "      <th></th>\n",
       "      <th>Claim_amount</th>\n",
       "    </tr>\n",
       "    <tr>\n",
       "      <th>Segment</th>\n",
       "      <th></th>\n",
       "    </tr>\n",
       "  </thead>\n",
       "  <tbody>\n",
       "    <tr>\n",
       "      <th>Gold</th>\n",
       "      <td>12788.39</td>\n",
       "    </tr>\n",
       "    <tr>\n",
       "      <th>Platinum</th>\n",
       "      <td>12370.79</td>\n",
       "    </tr>\n",
       "    <tr>\n",
       "      <th>Silver</th>\n",
       "      <td>12266.17</td>\n",
       "    </tr>\n",
       "  </tbody>\n",
       "</table>\n",
       "</div>"
      ],
      "text/plain": [
       "          Claim_amount\n",
       "Segment               \n",
       "Gold          12788.39\n",
       "Platinum      12370.79\n",
       "Silver        12266.17"
      ]
     },
     "execution_count": 117,
     "metadata": {},
     "output_type": "execute_result"
    }
   ],
   "source": [
    "insurance_data.groupby(by=\"Segment\").agg({\"Claim_amount\": \"mean\"}).round(2)"
   ]
  },
  {
   "cell_type": "markdown",
   "id": "f2a5261f",
   "metadata": {},
   "source": [
    "#### 9. What is the total claim amount based on incident cause for all the claims\n",
    "#### that have been done at least 20 days prior to 1st of October, 2018."
   ]
  },
  {
   "cell_type": "code",
   "execution_count": 118,
   "id": "1b981118",
   "metadata": {},
   "outputs": [
    {
     "data": {
      "text/plain": [
       "Timestamp('2018-09-11 00:00:00')"
      ]
     },
     "execution_count": 118,
     "metadata": {},
     "output_type": "execute_result"
    }
   ],
   "source": [
    "before_date = pd.to_datetime(\"1-10-2018\", format=\"%d-%m-%Y\") + pd.DateOffset(days=-20)\n",
    "\n",
    "before_date"
   ]
  },
  {
   "cell_type": "code",
   "execution_count": 119,
   "id": "a91dfda8",
   "metadata": {},
   "outputs": [],
   "source": [
    "insured_before_date = insurance_data.loc[insurance_data.Claim_date<before_date,\n",
    "                                         [\"Claim_date\",\"Incident_cause\", \"Claim_amount\"]]"
   ]
  },
  {
   "cell_type": "code",
   "execution_count": 120,
   "id": "f5c8f956",
   "metadata": {},
   "outputs": [
    {
     "data": {
      "text/html": [
       "<div>\n",
       "<style scoped>\n",
       "    .dataframe tbody tr th:only-of-type {\n",
       "        vertical-align: middle;\n",
       "    }\n",
       "\n",
       "    .dataframe tbody tr th {\n",
       "        vertical-align: top;\n",
       "    }\n",
       "\n",
       "    .dataframe thead th {\n",
       "        text-align: right;\n",
       "    }\n",
       "</style>\n",
       "<table border=\"1\" class=\"dataframe\">\n",
       "  <thead>\n",
       "    <tr style=\"text-align: right;\">\n",
       "      <th></th>\n",
       "      <th>Claim_amount</th>\n",
       "    </tr>\n",
       "    <tr>\n",
       "      <th>Incident_cause</th>\n",
       "      <th></th>\n",
       "    </tr>\n",
       "  </thead>\n",
       "  <tbody>\n",
       "    <tr>\n",
       "      <th>Crime</th>\n",
       "      <td>721834.5</td>\n",
       "    </tr>\n",
       "    <tr>\n",
       "      <th>Driver error</th>\n",
       "      <td>3278790.8</td>\n",
       "    </tr>\n",
       "    <tr>\n",
       "      <th>Natural causes</th>\n",
       "      <td>1312799.6</td>\n",
       "    </tr>\n",
       "    <tr>\n",
       "      <th>Other causes</th>\n",
       "      <td>3725236.1</td>\n",
       "    </tr>\n",
       "    <tr>\n",
       "      <th>Other driver error</th>\n",
       "      <td>3315572.2</td>\n",
       "    </tr>\n",
       "  </tbody>\n",
       "</table>\n",
       "</div>"
      ],
      "text/plain": [
       "                    Claim_amount\n",
       "Incident_cause                  \n",
       "Crime                   721834.5\n",
       "Driver error           3278790.8\n",
       "Natural causes         1312799.6\n",
       "Other causes           3725236.1\n",
       "Other driver error     3315572.2"
      ]
     },
     "execution_count": 120,
     "metadata": {},
     "output_type": "execute_result"
    }
   ],
   "source": [
    "insured_before_date.groupby(by=\"Incident_cause\").agg({\"Claim_amount\":\"sum\"}).round(2)"
   ]
  },
  {
   "cell_type": "markdown",
   "id": "4378310e",
   "metadata": {},
   "source": [
    "#### 10. How many adults from TX, DE and AK claimed insurance for driver\n",
    "#### related issues and causes?"
   ]
  },
  {
   "cell_type": "code",
   "execution_count": 121,
   "id": "3c220511",
   "metadata": {},
   "outputs": [
    {
     "data": {
      "text/html": [
       "<div>\n",
       "<style scoped>\n",
       "    .dataframe tbody tr th:only-of-type {\n",
       "        vertical-align: middle;\n",
       "    }\n",
       "\n",
       "    .dataframe tbody tr th {\n",
       "        vertical-align: top;\n",
       "    }\n",
       "\n",
       "    .dataframe thead th {\n",
       "        text-align: right;\n",
       "    }\n",
       "</style>\n",
       "<table border=\"1\" class=\"dataframe\">\n",
       "  <thead>\n",
       "    <tr style=\"text-align: right;\">\n",
       "      <th></th>\n",
       "      <th>Claim_id</th>\n",
       "      <th>Customer_id</th>\n",
       "      <th>Incident_cause</th>\n",
       "      <th>Claim_date</th>\n",
       "      <th>Claim_area</th>\n",
       "      <th>Police_report</th>\n",
       "      <th>Claim_type</th>\n",
       "      <th>Claim_amount</th>\n",
       "      <th>Total_policy_claims</th>\n",
       "      <th>Fraudulent</th>\n",
       "      <th>Gender</th>\n",
       "      <th>Dateofbirth</th>\n",
       "      <th>State</th>\n",
       "      <th>Contact</th>\n",
       "      <th>Segment</th>\n",
       "      <th>Alert_flag</th>\n",
       "      <th>Customer_age</th>\n",
       "      <th>Age_group</th>\n",
       "    </tr>\n",
       "  </thead>\n",
       "  <tbody>\n",
       "    <tr>\n",
       "      <th>113</th>\n",
       "      <td>31574986</td>\n",
       "      <td>11321295</td>\n",
       "      <td>Driver error</td>\n",
       "      <td>2017-02-03</td>\n",
       "      <td>Auto</td>\n",
       "      <td>No</td>\n",
       "      <td>Material only</td>\n",
       "      <td>2460.0</td>\n",
       "      <td>2.0</td>\n",
       "      <td>No</td>\n",
       "      <td>Male</td>\n",
       "      <td>1965-11-13</td>\n",
       "      <td>DE</td>\n",
       "      <td>429-596-2169</td>\n",
       "      <td>Platinum</td>\n",
       "      <td>0</td>\n",
       "      <td>51</td>\n",
       "      <td>Adult</td>\n",
       "    </tr>\n",
       "    <tr>\n",
       "      <th>161</th>\n",
       "      <td>34621474</td>\n",
       "      <td>54094880</td>\n",
       "      <td>Other driver error</td>\n",
       "      <td>2017-02-17</td>\n",
       "      <td>Auto</td>\n",
       "      <td>No</td>\n",
       "      <td>Material only</td>\n",
       "      <td>1529.5</td>\n",
       "      <td>1.0</td>\n",
       "      <td>Yes</td>\n",
       "      <td>Male</td>\n",
       "      <td>1984-06-01</td>\n",
       "      <td>DE</td>\n",
       "      <td>568-481-7418</td>\n",
       "      <td>Silver</td>\n",
       "      <td>0</td>\n",
       "      <td>33</td>\n",
       "      <td>Adult</td>\n",
       "    </tr>\n",
       "    <tr>\n",
       "      <th>183</th>\n",
       "      <td>22577147</td>\n",
       "      <td>66433138</td>\n",
       "      <td>Driver error</td>\n",
       "      <td>2017-02-23</td>\n",
       "      <td>Auto</td>\n",
       "      <td>No</td>\n",
       "      <td>Material and injury</td>\n",
       "      <td>21447.5</td>\n",
       "      <td>2.0</td>\n",
       "      <td>Yes</td>\n",
       "      <td>Male</td>\n",
       "      <td>1978-06-27</td>\n",
       "      <td>TX</td>\n",
       "      <td>752-617-3867</td>\n",
       "      <td>Gold</td>\n",
       "      <td>0</td>\n",
       "      <td>39</td>\n",
       "      <td>Adult</td>\n",
       "    </tr>\n",
       "    <tr>\n",
       "      <th>211</th>\n",
       "      <td>9129053</td>\n",
       "      <td>85250389</td>\n",
       "      <td>Other driver error</td>\n",
       "      <td>2017-03-02</td>\n",
       "      <td>Auto</td>\n",
       "      <td>Unknown</td>\n",
       "      <td>Injury only</td>\n",
       "      <td>24380.0</td>\n",
       "      <td>1.0</td>\n",
       "      <td>Yes</td>\n",
       "      <td>Female</td>\n",
       "      <td>1967-05-08</td>\n",
       "      <td>TX</td>\n",
       "      <td>827-367-5247</td>\n",
       "      <td>Platinum</td>\n",
       "      <td>0</td>\n",
       "      <td>50</td>\n",
       "      <td>Adult</td>\n",
       "    </tr>\n",
       "    <tr>\n",
       "      <th>278</th>\n",
       "      <td>17396013</td>\n",
       "      <td>44050095</td>\n",
       "      <td>Driver error</td>\n",
       "      <td>2017-03-22</td>\n",
       "      <td>Auto</td>\n",
       "      <td>Unknown</td>\n",
       "      <td>Material and injury</td>\n",
       "      <td>20458.5</td>\n",
       "      <td>1.0</td>\n",
       "      <td>Yes</td>\n",
       "      <td>Male</td>\n",
       "      <td>1977-06-04</td>\n",
       "      <td>DE</td>\n",
       "      <td>314-298-9257</td>\n",
       "      <td>Platinum</td>\n",
       "      <td>0</td>\n",
       "      <td>40</td>\n",
       "      <td>Adult</td>\n",
       "    </tr>\n",
       "  </tbody>\n",
       "</table>\n",
       "</div>"
      ],
      "text/plain": [
       "     Claim_id  Customer_id      Incident_cause Claim_date Claim_area  \\\n",
       "113  31574986     11321295        Driver error 2017-02-03       Auto   \n",
       "161  34621474     54094880  Other driver error 2017-02-17       Auto   \n",
       "183  22577147     66433138        Driver error 2017-02-23       Auto   \n",
       "211   9129053     85250389  Other driver error 2017-03-02       Auto   \n",
       "278  17396013     44050095        Driver error 2017-03-22       Auto   \n",
       "\n",
       "    Police_report           Claim_type  Claim_amount  Total_policy_claims  \\\n",
       "113            No        Material only        2460.0                  2.0   \n",
       "161            No        Material only        1529.5                  1.0   \n",
       "183            No  Material and injury       21447.5                  2.0   \n",
       "211       Unknown          Injury only       24380.0                  1.0   \n",
       "278       Unknown  Material and injury       20458.5                  1.0   \n",
       "\n",
       "    Fraudulent  Gender Dateofbirth State       Contact   Segment  Alert_flag  \\\n",
       "113         No    Male  1965-11-13    DE  429-596-2169  Platinum           0   \n",
       "161        Yes    Male  1984-06-01    DE  568-481-7418    Silver           0   \n",
       "183        Yes    Male  1978-06-27    TX  752-617-3867      Gold           0   \n",
       "211        Yes  Female  1967-05-08    TX  827-367-5247  Platinum           0   \n",
       "278        Yes    Male  1977-06-04    DE  314-298-9257  Platinum           0   \n",
       "\n",
       "     Customer_age Age_group  \n",
       "113            51     Adult  \n",
       "161            33     Adult  \n",
       "183            39     Adult  \n",
       "211            50     Adult  \n",
       "278            40     Adult  "
      ]
     },
     "execution_count": 121,
     "metadata": {},
     "output_type": "execute_result"
    }
   ],
   "source": [
    "insured_drive_issue = insurance_data.loc[(insurance_data.Incident_cause.isin([\"Driver error\", \"Other driver error\"])) &\n",
    "                   (insurance_data.State.isin([\"TX\", \"DE\", \"AK\"])) &\n",
    "                   (insurance_data.Age_group==\"Adult\")]\n",
    "\n",
    "insured_drive_issue.head()"
   ]
  },
  {
   "cell_type": "code",
   "execution_count": 122,
   "id": "c191d9d0",
   "metadata": {},
   "outputs": [
    {
     "data": {
      "text/html": [
       "<div>\n",
       "<style scoped>\n",
       "    .dataframe tbody tr th:only-of-type {\n",
       "        vertical-align: middle;\n",
       "    }\n",
       "\n",
       "    .dataframe tbody tr th {\n",
       "        vertical-align: top;\n",
       "    }\n",
       "\n",
       "    .dataframe thead th {\n",
       "        text-align: right;\n",
       "    }\n",
       "</style>\n",
       "<table border=\"1\" class=\"dataframe\">\n",
       "  <thead>\n",
       "    <tr style=\"text-align: right;\">\n",
       "      <th>col_0</th>\n",
       "      <th>Count_of_adult</th>\n",
       "    </tr>\n",
       "    <tr>\n",
       "      <th>State</th>\n",
       "      <th></th>\n",
       "    </tr>\n",
       "  </thead>\n",
       "  <tbody>\n",
       "    <tr>\n",
       "      <th>AK</th>\n",
       "      <td>8</td>\n",
       "    </tr>\n",
       "    <tr>\n",
       "      <th>DE</th>\n",
       "      <td>9</td>\n",
       "    </tr>\n",
       "    <tr>\n",
       "      <th>TX</th>\n",
       "      <td>7</td>\n",
       "    </tr>\n",
       "  </tbody>\n",
       "</table>\n",
       "</div>"
      ],
      "text/plain": [
       "col_0  Count_of_adult\n",
       "State                \n",
       "AK                  8\n",
       "DE                  9\n",
       "TX                  7"
      ]
     },
     "execution_count": 122,
     "metadata": {},
     "output_type": "execute_result"
    }
   ],
   "source": [
    "# insured_drive_issue.groupby(by=\"State\").count()\n",
    "\n",
    "pd.crosstab(index=insured_drive_issue.State, columns=\"Count_of_adult\", values=insured_drive_issue.Customer_id, aggfunc=\"count\")"
   ]
  },
  {
   "cell_type": "markdown",
   "id": "22095cf0",
   "metadata": {},
   "source": [
    "#### 11. Draw a pie chart between the aggregated value of claim amount based\n",
    "#### on gender and segment. Represent the claim amount as a percentage on\n",
    "#### the pie chart."
   ]
  },
  {
   "cell_type": "code",
   "execution_count": 123,
   "id": "b525e89e",
   "metadata": {},
   "outputs": [
    {
     "data": {
      "image/png": "[encoded data removed]",
      "text/plain": [
       "<Figure size 1200x800 with 3 Axes>"
      ]
     },
     "metadata": {},
     "output_type": "display_data"
    }
   ],
   "source": [
    "summary_pie = insurance_data.groupby(by=[\"Gender\", \"Segment\"])[\"Claim_amount\"].sum().reset_index()\n",
    "\n",
    "\n",
    "summary_pie.pivot(index=\"Gender\",columns=\"Segment\", values=\"Claim_amount\").plot(kind=\"pie\",\n",
    "                                                                                explode=[0.01]*2,\n",
    "                                                                                autopct=\"%.2f%%\",\n",
    "                                                                                subplots=True, \n",
    "                                                                                legend=False,\n",
    "                                                                               figsize=(12,8))\n",
    "                                                               \n",
    "\n",
    "plt.show()"
   ]
  },
  {
   "cell_type": "markdown",
   "id": "3d283d7c",
   "metadata": {},
   "source": [
    "#### 12. Among males and females, which gender had claimed the most for any\n",
    "#### type of driver related issues? E.g. This metric can be compared using a\n",
    "#### bar chart"
   ]
  },
  {
   "cell_type": "code",
   "execution_count": 124,
   "id": "d0b472d8",
   "metadata": {
    "scrolled": false
   },
   "outputs": [
    {
     "data": {
      "image/png": "[encoded data removed]",
      "text/plain": [
       "<Figure size 640x480 with 1 Axes>"
      ]
     },
     "metadata": {},
     "output_type": "display_data"
    }
   ],
   "source": [
    "driving_issue_data = insurance_data.loc[insurance_data.Incident_cause.isin([\"Driver error\", \"Other driver error\"])]\n",
    "\n",
    "summary_data =driving_issue_data.groupby(by=\"Gender\").agg({\"Claim_amount\":\"sum\"})\n",
    "\n",
    "chart = sns.barplot(data=summary_data, x=summary_data.index, y=summary_data.Claim_amount)\n",
    "\n",
    "for i in chart.containers:\n",
    "    labels = [v.get_height() for v in i]\n",
    "    chart.bar_label(i, labels=labels, label_type=\"edge\")\n",
    "\n"
   ]
  },
  {
   "cell_type": "markdown",
   "id": "d9234d71",
   "metadata": {},
   "source": [
    "#### 13. Which age group had the maximum fraudulent policy claims? Visualize it on a bar chart."
   ]
  },
  {
   "cell_type": "code",
   "execution_count": 125,
   "id": "9874208e",
   "metadata": {
    "scrolled": false
   },
   "outputs": [
    {
     "data": {
      "text/html": [
       "<div>\n",
       "<style scoped>\n",
       "    .dataframe tbody tr th:only-of-type {\n",
       "        vertical-align: middle;\n",
       "    }\n",
       "\n",
       "    .dataframe tbody tr th {\n",
       "        vertical-align: top;\n",
       "    }\n",
       "\n",
       "    .dataframe thead th {\n",
       "        text-align: right;\n",
       "    }\n",
       "</style>\n",
       "<table border=\"1\" class=\"dataframe\">\n",
       "  <thead>\n",
       "    <tr style=\"text-align: right;\">\n",
       "      <th></th>\n",
       "      <th>Claim_id</th>\n",
       "      <th>Customer_id</th>\n",
       "      <th>Incident_cause</th>\n",
       "      <th>Claim_date</th>\n",
       "      <th>Claim_area</th>\n",
       "      <th>Police_report</th>\n",
       "      <th>Claim_type</th>\n",
       "      <th>Claim_amount</th>\n",
       "      <th>Total_policy_claims</th>\n",
       "      <th>Fraudulent</th>\n",
       "      <th>Gender</th>\n",
       "      <th>Dateofbirth</th>\n",
       "      <th>State</th>\n",
       "      <th>Contact</th>\n",
       "      <th>Segment</th>\n",
       "      <th>Alert_flag</th>\n",
       "      <th>Customer_age</th>\n",
       "      <th>Age_group</th>\n",
       "    </tr>\n",
       "  </thead>\n",
       "  <tbody>\n",
       "    <tr>\n",
       "      <th>6</th>\n",
       "      <td>58878919</td>\n",
       "      <td>29323970</td>\n",
       "      <td>Driver error</td>\n",
       "      <td>2017-01-01</td>\n",
       "      <td>Auto</td>\n",
       "      <td>Unknown</td>\n",
       "      <td>Material only</td>\n",
       "      <td>1840.0</td>\n",
       "      <td>1.0</td>\n",
       "      <td>Yes</td>\n",
       "      <td>Male</td>\n",
       "      <td>1971-03-03</td>\n",
       "      <td>NE</td>\n",
       "      <td>783-653-9163</td>\n",
       "      <td>Gold</td>\n",
       "      <td>0</td>\n",
       "      <td>46</td>\n",
       "      <td>Adult</td>\n",
       "    </tr>\n",
       "    <tr>\n",
       "      <th>9</th>\n",
       "      <td>39131766</td>\n",
       "      <td>39587790</td>\n",
       "      <td>Other causes</td>\n",
       "      <td>2017-01-01</td>\n",
       "      <td>Auto</td>\n",
       "      <td>No</td>\n",
       "      <td>Material only</td>\n",
       "      <td>2967.0</td>\n",
       "      <td>1.0</td>\n",
       "      <td>Yes</td>\n",
       "      <td>Male</td>\n",
       "      <td>1965-01-10</td>\n",
       "      <td>LA</td>\n",
       "      <td>615-154-3516</td>\n",
       "      <td>Gold</td>\n",
       "      <td>0</td>\n",
       "      <td>52</td>\n",
       "      <td>Adult</td>\n",
       "    </tr>\n",
       "    <tr>\n",
       "      <th>12</th>\n",
       "      <td>76762783</td>\n",
       "      <td>41673539</td>\n",
       "      <td>Crime</td>\n",
       "      <td>2018-01-06</td>\n",
       "      <td>Auto</td>\n",
       "      <td>Yes</td>\n",
       "      <td>Material and injury</td>\n",
       "      <td>44838.5</td>\n",
       "      <td>1.0</td>\n",
       "      <td>Yes</td>\n",
       "      <td>Female</td>\n",
       "      <td>1997-03-23</td>\n",
       "      <td>ID</td>\n",
       "      <td>738-935-7236</td>\n",
       "      <td>Platinum</td>\n",
       "      <td>0</td>\n",
       "      <td>21</td>\n",
       "      <td>Youth</td>\n",
       "    </tr>\n",
       "    <tr>\n",
       "      <th>14</th>\n",
       "      <td>37692448</td>\n",
       "      <td>44632301</td>\n",
       "      <td>Other driver error</td>\n",
       "      <td>2018-01-06</td>\n",
       "      <td>Auto</td>\n",
       "      <td>Yes</td>\n",
       "      <td>Injury only</td>\n",
       "      <td>44666.0</td>\n",
       "      <td>1.0</td>\n",
       "      <td>Yes</td>\n",
       "      <td>Female</td>\n",
       "      <td>1981-02-23</td>\n",
       "      <td>WV</td>\n",
       "      <td>261-697-1863</td>\n",
       "      <td>Silver</td>\n",
       "      <td>0</td>\n",
       "      <td>37</td>\n",
       "      <td>Adult</td>\n",
       "    </tr>\n",
       "    <tr>\n",
       "      <th>21</th>\n",
       "      <td>15510973</td>\n",
       "      <td>55982230</td>\n",
       "      <td>Other driver error</td>\n",
       "      <td>2018-01-06</td>\n",
       "      <td>Auto</td>\n",
       "      <td>Unknown</td>\n",
       "      <td>Material and injury</td>\n",
       "      <td>29428.5</td>\n",
       "      <td>1.0</td>\n",
       "      <td>Yes</td>\n",
       "      <td>Male</td>\n",
       "      <td>1991-05-05</td>\n",
       "      <td>MO</td>\n",
       "      <td>152-467-3764</td>\n",
       "      <td>Platinum</td>\n",
       "      <td>0</td>\n",
       "      <td>27</td>\n",
       "      <td>Youth</td>\n",
       "    </tr>\n",
       "  </tbody>\n",
       "</table>\n",
       "</div>"
      ],
      "text/plain": [
       "    Claim_id  Customer_id      Incident_cause Claim_date Claim_area  \\\n",
       "6   58878919     29323970        Driver error 2017-01-01       Auto   \n",
       "9   39131766     39587790        Other causes 2017-01-01       Auto   \n",
       "12  76762783     41673539               Crime 2018-01-06       Auto   \n",
       "14  37692448     44632301  Other driver error 2018-01-06       Auto   \n",
       "21  15510973     55982230  Other driver error 2018-01-06       Auto   \n",
       "\n",
       "   Police_report           Claim_type  Claim_amount  Total_policy_claims  \\\n",
       "6        Unknown        Material only        1840.0                  1.0   \n",
       "9             No        Material only        2967.0                  1.0   \n",
       "12           Yes  Material and injury       44838.5                  1.0   \n",
       "14           Yes          Injury only       44666.0                  1.0   \n",
       "21       Unknown  Material and injury       29428.5                  1.0   \n",
       "\n",
       "   Fraudulent  Gender Dateofbirth State       Contact   Segment  Alert_flag  \\\n",
       "6         Yes    Male  1971-03-03    NE  783-653-9163      Gold           0   \n",
       "9         Yes    Male  1965-01-10    LA  615-154-3516      Gold           0   \n",
       "12        Yes  Female  1997-03-23    ID  738-935-7236  Platinum           0   \n",
       "14        Yes  Female  1981-02-23    WV  261-697-1863    Silver           0   \n",
       "21        Yes    Male  1991-05-05    MO  152-467-3764  Platinum           0   \n",
       "\n",
       "    Customer_age Age_group  \n",
       "6             46     Adult  \n",
       "9             52     Adult  \n",
       "12            21     Youth  \n",
       "14            37     Adult  \n",
       "21            27     Youth  "
      ]
     },
     "execution_count": 125,
     "metadata": {},
     "output_type": "execute_result"
    }
   ],
   "source": [
    "fraud_data = insurance_data[insurance_data.Fraudulent==\"Yes\"]\n",
    "\n",
    "fraud_data.head()"
   ]
  },
  {
   "cell_type": "code",
   "execution_count": 126,
   "id": "b0ef2db5",
   "metadata": {},
   "outputs": [],
   "source": [
    "summary_fraud = pd.crosstab(index=fraud_data.Age_group, columns=\"Count_of_fraud\",\n",
    "                            values=fraud_data.Customer_id, aggfunc=\"count\")\n"
   ]
  },
  {
   "cell_type": "code",
   "execution_count": 127,
   "id": "4956be18",
   "metadata": {},
   "outputs": [
    {
     "data": {
      "image/png": "[encoded data removed]",
      "text/plain": [
       "<Figure size 640x480 with 1 Axes>"
      ]
     },
     "metadata": {},
     "output_type": "display_data"
    }
   ],
   "source": [
    "fraud_chart = sns.barplot(data=summary_data, x=summary_fraud.index, y=summary_fraud.Count_of_fraud)\n",
    "\n",
    "for i in fraud_chart.containers:\n",
    "    labels = [element.get_height().astype(\"int\") for element in i]\n",
    "    fraud_chart.bar_label(i, labels=labels, label_type=\"center\")\n"
   ]
  },
  {
   "cell_type": "markdown",
   "id": "eb4cd5f7",
   "metadata": {},
   "source": [
    "#### 14. Visualize the monthly trend of the total amount that has been claimed\n",
    "#### by the customers. Ensure that on the “month” axis, the month is in a\n",
    "#### chronological order not alphabetical order."
   ]
  },
  {
   "cell_type": "code",
   "execution_count": 128,
   "id": "82b7821e",
   "metadata": {},
   "outputs": [],
   "source": [
    "insurance_data.insert(loc=4, column=\"Claim_month\", value=insurance_data.Claim_date.dt.month_name())\n",
    "insurance_data.insert(loc=5, column=\"Claim_nmonth\", value=insurance_data.Claim_date.dt.month)"
   ]
  },
  {
   "cell_type": "code",
   "execution_count": 129,
   "id": "c2544476",
   "metadata": {},
   "outputs": [
    {
     "data": {
      "text/html": [
       "<div>\n",
       "<style scoped>\n",
       "    .dataframe tbody tr th:only-of-type {\n",
       "        vertical-align: middle;\n",
       "    }\n",
       "\n",
       "    .dataframe tbody tr th {\n",
       "        vertical-align: top;\n",
       "    }\n",
       "\n",
       "    .dataframe thead th {\n",
       "        text-align: right;\n",
       "    }\n",
       "</style>\n",
       "<table border=\"1\" class=\"dataframe\">\n",
       "  <thead>\n",
       "    <tr style=\"text-align: right;\">\n",
       "      <th></th>\n",
       "      <th></th>\n",
       "      <th>Claim_amount</th>\n",
       "    </tr>\n",
       "    <tr>\n",
       "      <th>Claim_nmonth</th>\n",
       "      <th>Claim_month</th>\n",
       "      <th></th>\n",
       "    </tr>\n",
       "  </thead>\n",
       "  <tbody>\n",
       "    <tr>\n",
       "      <th>1</th>\n",
       "      <th>January</th>\n",
       "      <td>1327024.8</td>\n",
       "    </tr>\n",
       "    <tr>\n",
       "      <th>2</th>\n",
       "      <th>February</th>\n",
       "      <td>1127649.1</td>\n",
       "    </tr>\n",
       "    <tr>\n",
       "      <th>3</th>\n",
       "      <th>March</th>\n",
       "      <td>1320146.0</td>\n",
       "    </tr>\n",
       "    <tr>\n",
       "      <th>4</th>\n",
       "      <th>April</th>\n",
       "      <td>1292472.3</td>\n",
       "    </tr>\n",
       "    <tr>\n",
       "      <th>5</th>\n",
       "      <th>May</th>\n",
       "      <td>1114294.7</td>\n",
       "    </tr>\n",
       "    <tr>\n",
       "      <th>6</th>\n",
       "      <th>June</th>\n",
       "      <td>1278905.4</td>\n",
       "    </tr>\n",
       "    <tr>\n",
       "      <th>7</th>\n",
       "      <th>July</th>\n",
       "      <td>1379128.6</td>\n",
       "    </tr>\n",
       "    <tr>\n",
       "      <th>8</th>\n",
       "      <th>August</th>\n",
       "      <td>911234.7</td>\n",
       "    </tr>\n",
       "    <tr>\n",
       "      <th>9</th>\n",
       "      <th>September</th>\n",
       "      <td>982992.0</td>\n",
       "    </tr>\n",
       "    <tr>\n",
       "      <th>10</th>\n",
       "      <th>October</th>\n",
       "      <td>1422738.7</td>\n",
       "    </tr>\n",
       "    <tr>\n",
       "      <th>11</th>\n",
       "      <th>November</th>\n",
       "      <td>601145.8</td>\n",
       "    </tr>\n",
       "    <tr>\n",
       "      <th>12</th>\n",
       "      <th>December</th>\n",
       "      <td>696711.9</td>\n",
       "    </tr>\n",
       "  </tbody>\n",
       "</table>\n",
       "</div>"
      ],
      "text/plain": [
       "                          Claim_amount\n",
       "Claim_nmonth Claim_month              \n",
       "1            January         1327024.8\n",
       "2            February        1127649.1\n",
       "3            March           1320146.0\n",
       "4            April           1292472.3\n",
       "5            May             1114294.7\n",
       "6            June            1278905.4\n",
       "7            July            1379128.6\n",
       "8            August           911234.7\n",
       "9            September        982992.0\n",
       "10           October         1422738.7\n",
       "11           November         601145.8\n",
       "12           December         696711.9"
      ]
     },
     "execution_count": 129,
     "metadata": {},
     "output_type": "execute_result"
    }
   ],
   "source": [
    "monthly_claims = insurance_data.groupby(by=[\"Claim_nmonth\", \"Claim_month\"] ).agg({\"Claim_amount\":\"sum\"})\n",
    "\n",
    "monthly_claims"
   ]
  },
  {
   "cell_type": "code",
   "execution_count": 130,
   "id": "078445cd",
   "metadata": {},
   "outputs": [
    {
     "data": {
      "image/png": "[encoded data removed]",
      "text/plain": [
       "<Figure size 1500x500 with 1 Axes>"
      ]
     },
     "metadata": {},
     "output_type": "display_data"
    }
   ],
   "source": [
    "plt.figure(figsize=(15, 5))\n",
    "trend = sns.lineplot(data=monthly_claims,x=monthly_claims.index.names[1] , y=monthly_claims.Claim_amount)"
   ]
  },
  {
   "cell_type": "markdown",
   "id": "48aaf980",
   "metadata": {},
   "source": [
    "#### 15. What is the average claim amount for gender and age categories and\n",
    "#### suitably represent the above using a facetted bar chart, one facet that\n",
    "#### represents fraudulent claims and the other for non-fraudulent claims."
   ]
  },
  {
   "cell_type": "code",
   "execution_count": 131,
   "id": "0e498481",
   "metadata": {},
   "outputs": [
    {
     "data": {
      "text/html": [
       "<div>\n",
       "<style scoped>\n",
       "    .dataframe tbody tr th:only-of-type {\n",
       "        vertical-align: middle;\n",
       "    }\n",
       "\n",
       "    .dataframe tbody tr th {\n",
       "        vertical-align: top;\n",
       "    }\n",
       "\n",
       "    .dataframe thead th {\n",
       "        text-align: right;\n",
       "    }\n",
       "</style>\n",
       "<table border=\"1\" class=\"dataframe\">\n",
       "  <thead>\n",
       "    <tr style=\"text-align: right;\">\n",
       "      <th></th>\n",
       "      <th>Gender</th>\n",
       "      <th>Age_group</th>\n",
       "      <th>Fraudulent</th>\n",
       "      <th>Claim_amount</th>\n",
       "    </tr>\n",
       "  </thead>\n",
       "  <tbody>\n",
       "    <tr>\n",
       "      <th>0</th>\n",
       "      <td>Female</td>\n",
       "      <td>Adult</td>\n",
       "      <td>No</td>\n",
       "      <td>12372.89</td>\n",
       "    </tr>\n",
       "    <tr>\n",
       "      <th>1</th>\n",
       "      <td>Female</td>\n",
       "      <td>Adult</td>\n",
       "      <td>Yes</td>\n",
       "      <td>12448.47</td>\n",
       "    </tr>\n",
       "    <tr>\n",
       "      <th>2</th>\n",
       "      <td>Female</td>\n",
       "      <td>Children</td>\n",
       "      <td>No</td>\n",
       "      <td>20200.00</td>\n",
       "    </tr>\n",
       "    <tr>\n",
       "      <th>3</th>\n",
       "      <td>Female</td>\n",
       "      <td>Youth</td>\n",
       "      <td>No</td>\n",
       "      <td>12398.62</td>\n",
       "    </tr>\n",
       "    <tr>\n",
       "      <th>4</th>\n",
       "      <td>Female</td>\n",
       "      <td>Youth</td>\n",
       "      <td>Yes</td>\n",
       "      <td>7757.96</td>\n",
       "    </tr>\n",
       "    <tr>\n",
       "      <th>5</th>\n",
       "      <td>Male</td>\n",
       "      <td>Adult</td>\n",
       "      <td>No</td>\n",
       "      <td>12190.59</td>\n",
       "    </tr>\n",
       "    <tr>\n",
       "      <th>6</th>\n",
       "      <td>Male</td>\n",
       "      <td>Adult</td>\n",
       "      <td>Yes</td>\n",
       "      <td>17062.70</td>\n",
       "    </tr>\n",
       "    <tr>\n",
       "      <th>7</th>\n",
       "      <td>Male</td>\n",
       "      <td>Children</td>\n",
       "      <td>No</td>\n",
       "      <td>24610.00</td>\n",
       "    </tr>\n",
       "    <tr>\n",
       "      <th>8</th>\n",
       "      <td>Male</td>\n",
       "      <td>Youth</td>\n",
       "      <td>No</td>\n",
       "      <td>12199.82</td>\n",
       "    </tr>\n",
       "    <tr>\n",
       "      <th>9</th>\n",
       "      <td>Male</td>\n",
       "      <td>Youth</td>\n",
       "      <td>Yes</td>\n",
       "      <td>10684.37</td>\n",
       "    </tr>\n",
       "  </tbody>\n",
       "</table>\n",
       "</div>"
      ],
      "text/plain": [
       "   Gender Age_group Fraudulent  Claim_amount\n",
       "0  Female     Adult         No      12372.89\n",
       "1  Female     Adult        Yes      12448.47\n",
       "2  Female  Children         No      20200.00\n",
       "3  Female     Youth         No      12398.62\n",
       "4  Female     Youth        Yes       7757.96\n",
       "5    Male     Adult         No      12190.59\n",
       "6    Male     Adult        Yes      17062.70\n",
       "7    Male  Children         No      24610.00\n",
       "8    Male     Youth         No      12199.82\n",
       "9    Male     Youth        Yes      10684.37"
      ]
     },
     "execution_count": 131,
     "metadata": {},
     "output_type": "execute_result"
    }
   ],
   "source": [
    "data_facet = insurance_data.groupby(by=[\"Gender\",\n",
    "                     \"Age_group\",\"Fraudulent\" ]).agg({\"Claim_amount\":\"mean\"}\n",
    "                                                    ).round(2).reset_index()\n",
    "data_facet"
   ]
  },
  {
   "cell_type": "code",
   "execution_count": 132,
   "id": "939e9272",
   "metadata": {},
   "outputs": [
    {
     "data": {
      "image/png": "[encoded data removed]",
      "text/plain": [
       "<Figure size 1500x700 with 2 Axes>"
      ]
     },
     "metadata": {},
     "output_type": "display_data"
    }
   ],
   "source": [
    "graph = sns.catplot(data=data_facet, x=\"Gender\", y=\"Claim_amount\", hue=\"Age_group\", kind=\"bar\",col=\"Fraudulent\")\n",
    "\n",
    "graph.fig.set_size_inches(15,7)\n",
    "\n",
    "ax1 = graph.facet_axis(0,0)\n",
    "ax2 = graph.facet_axis(0,1)\n",
    "\n",
    "\n",
    "for i in ax1.containers:\n",
    "    labels = [v.get_height() for v in i]\n",
    "    ax1.bar_label(i, labels=labels, label_type=\"edge\")\n",
    "    ax1.grid(visible=True, axis=\"y\")\n",
    "\n",
    "for i in ax2.containers:\n",
    "    labels = [v.get_height() for v in i]\n",
    "    ax2.bar_label(i, labels=labels, label_type=\"edge\")\n",
    "    ax2.grid(visible=True, axis=\"y\")"
   ]
  },
  {
   "cell_type": "markdown",
   "id": "0e857f32",
   "metadata": {},
   "source": [
    "#### 16. Is there any similarity in the amount claimed by males and females?"
   ]
  },
  {
   "cell_type": "code",
   "execution_count": 133,
   "id": "47c73321",
   "metadata": {},
   "outputs": [],
   "source": [
    "insurance_data.drop(\"Claim_nmonth\", axis=1, inplace=True)"
   ]
  },
  {
   "cell_type": "code",
   "execution_count": 134,
   "id": "9e1ad19d",
   "metadata": {},
   "outputs": [
    {
     "data": {
      "text/html": [
       "<div>\n",
       "<style scoped>\n",
       "    .dataframe tbody tr th:only-of-type {\n",
       "        vertical-align: middle;\n",
       "    }\n",
       "\n",
       "    .dataframe tbody tr th {\n",
       "        vertical-align: top;\n",
       "    }\n",
       "\n",
       "    .dataframe thead th {\n",
       "        text-align: right;\n",
       "    }\n",
       "</style>\n",
       "<table border=\"1\" class=\"dataframe\">\n",
       "  <thead>\n",
       "    <tr style=\"text-align: right;\">\n",
       "      <th></th>\n",
       "      <th>Claim_id</th>\n",
       "      <th>Customer_id</th>\n",
       "      <th>Incident_cause</th>\n",
       "      <th>Claim_date</th>\n",
       "      <th>Claim_month</th>\n",
       "      <th>Claim_area</th>\n",
       "      <th>Police_report</th>\n",
       "      <th>Claim_type</th>\n",
       "      <th>Claim_amount</th>\n",
       "      <th>Total_policy_claims</th>\n",
       "      <th>Fraudulent</th>\n",
       "      <th>Gender</th>\n",
       "      <th>Dateofbirth</th>\n",
       "      <th>State</th>\n",
       "      <th>Contact</th>\n",
       "      <th>Segment</th>\n",
       "      <th>Alert_flag</th>\n",
       "      <th>Customer_age</th>\n",
       "      <th>Age_group</th>\n",
       "    </tr>\n",
       "  </thead>\n",
       "  <tbody>\n",
       "    <tr>\n",
       "      <th>0</th>\n",
       "      <td>9476314</td>\n",
       "      <td>65176092</td>\n",
       "      <td>Other causes</td>\n",
       "      <td>2017-01-01</td>\n",
       "      <td>January</td>\n",
       "      <td>Auto</td>\n",
       "      <td>No</td>\n",
       "      <td>Material and injury</td>\n",
       "      <td>37290.0</td>\n",
       "      <td>3.0</td>\n",
       "      <td>No</td>\n",
       "      <td>Male</td>\n",
       "      <td>1975-11-23</td>\n",
       "      <td>NC</td>\n",
       "      <td>651-379-2486</td>\n",
       "      <td>Silver</td>\n",
       "      <td>0</td>\n",
       "      <td>41</td>\n",
       "      <td>Adult</td>\n",
       "    </tr>\n",
       "    <tr>\n",
       "      <th>1</th>\n",
       "      <td>70512964</td>\n",
       "      <td>22756942</td>\n",
       "      <td>Driver error</td>\n",
       "      <td>2017-01-01</td>\n",
       "      <td>January</td>\n",
       "      <td>Auto</td>\n",
       "      <td>Yes</td>\n",
       "      <td>Injury only</td>\n",
       "      <td>20310.0</td>\n",
       "      <td>1.0</td>\n",
       "      <td>No</td>\n",
       "      <td>Male</td>\n",
       "      <td>1982-10-09</td>\n",
       "      <td>FL</td>\n",
       "      <td>462-823-3126</td>\n",
       "      <td>Silver</td>\n",
       "      <td>0</td>\n",
       "      <td>34</td>\n",
       "      <td>Adult</td>\n",
       "    </tr>\n",
       "    <tr>\n",
       "      <th>2</th>\n",
       "      <td>97666948</td>\n",
       "      <td>97514724</td>\n",
       "      <td>Driver error</td>\n",
       "      <td>2017-01-01</td>\n",
       "      <td>January</td>\n",
       "      <td>Home</td>\n",
       "      <td>No</td>\n",
       "      <td>Injury only</td>\n",
       "      <td>19120.0</td>\n",
       "      <td>1.0</td>\n",
       "      <td>No</td>\n",
       "      <td>Male</td>\n",
       "      <td>1969-06-08</td>\n",
       "      <td>FL</td>\n",
       "      <td>641-684-7986</td>\n",
       "      <td>Platinum</td>\n",
       "      <td>1</td>\n",
       "      <td>48</td>\n",
       "      <td>Adult</td>\n",
       "    </tr>\n",
       "    <tr>\n",
       "      <th>3</th>\n",
       "      <td>61374372</td>\n",
       "      <td>77219712</td>\n",
       "      <td>Other causes</td>\n",
       "      <td>2017-01-01</td>\n",
       "      <td>January</td>\n",
       "      <td>Auto</td>\n",
       "      <td>No</td>\n",
       "      <td>Material and injury</td>\n",
       "      <td>20200.0</td>\n",
       "      <td>1.0</td>\n",
       "      <td>No</td>\n",
       "      <td>Female</td>\n",
       "      <td>1999-08-05</td>\n",
       "      <td>NH</td>\n",
       "      <td>649-592-8793</td>\n",
       "      <td>Platinum</td>\n",
       "      <td>0</td>\n",
       "      <td>17</td>\n",
       "      <td>Children</td>\n",
       "    </tr>\n",
       "    <tr>\n",
       "      <th>4</th>\n",
       "      <td>90591192</td>\n",
       "      <td>61745840</td>\n",
       "      <td>Other driver error</td>\n",
       "      <td>2017-01-01</td>\n",
       "      <td>January</td>\n",
       "      <td>Home</td>\n",
       "      <td>No</td>\n",
       "      <td>Material and injury</td>\n",
       "      <td>30930.0</td>\n",
       "      <td>1.0</td>\n",
       "      <td>No</td>\n",
       "      <td>Female</td>\n",
       "      <td>1994-07-24</td>\n",
       "      <td>MA</td>\n",
       "      <td>612-684-5472</td>\n",
       "      <td>Platinum</td>\n",
       "      <td>0</td>\n",
       "      <td>22</td>\n",
       "      <td>Youth</td>\n",
       "    </tr>\n",
       "  </tbody>\n",
       "</table>\n",
       "</div>"
      ],
      "text/plain": [
       "   Claim_id  Customer_id      Incident_cause Claim_date Claim_month  \\\n",
       "0   9476314     65176092        Other causes 2017-01-01     January   \n",
       "1  70512964     22756942        Driver error 2017-01-01     January   \n",
       "2  97666948     97514724        Driver error 2017-01-01     January   \n",
       "3  61374372     77219712        Other causes 2017-01-01     January   \n",
       "4  90591192     61745840  Other driver error 2017-01-01     January   \n",
       "\n",
       "  Claim_area Police_report           Claim_type  Claim_amount  \\\n",
       "0       Auto            No  Material and injury       37290.0   \n",
       "1       Auto           Yes          Injury only       20310.0   \n",
       "2       Home            No          Injury only       19120.0   \n",
       "3       Auto            No  Material and injury       20200.0   \n",
       "4       Home            No  Material and injury       30930.0   \n",
       "\n",
       "   Total_policy_claims Fraudulent  Gender Dateofbirth State       Contact  \\\n",
       "0                  3.0         No    Male  1975-11-23    NC  651-379-2486   \n",
       "1                  1.0         No    Male  1982-10-09    FL  462-823-3126   \n",
       "2                  1.0         No    Male  1969-06-08    FL  641-684-7986   \n",
       "3                  1.0         No  Female  1999-08-05    NH  649-592-8793   \n",
       "4                  1.0         No  Female  1994-07-24    MA  612-684-5472   \n",
       "\n",
       "    Segment  Alert_flag  Customer_age Age_group  \n",
       "0    Silver           0            41     Adult  \n",
       "1    Silver           0            34     Adult  \n",
       "2  Platinum           1            48     Adult  \n",
       "3  Platinum           0            17  Children  \n",
       "4  Platinum           0            22     Youth  "
      ]
     },
     "execution_count": 134,
     "metadata": {},
     "output_type": "execute_result"
    }
   ],
   "source": [
    "insurance_data.head()"
   ]
  },
  {
   "cell_type": "code",
   "execution_count": 135,
   "id": "c92807e5",
   "metadata": {},
   "outputs": [
    {
     "name": "stdout",
     "output_type": "stream",
     "text": [
      "Mean of male claims- 12845.25662431943\n",
      "Mean of female claims- 12100.014421252376\n"
     ]
    }
   ],
   "source": [
    "male_claims = insurance_data.loc[insurance_data.Gender==\"Male\", \"Claim_amount\"]\n",
    "female_claims = insurance_data.loc[insurance_data.Gender==\"Female\", \"Claim_amount\"]\n",
    "\n",
    "print(f\"Mean of male claims- {male_claims.mean()}\")\n",
    "print(f\"Mean of female claims- {female_claims.mean()}\")\n"
   ]
  },
  {
   "cell_type": "code",
   "execution_count": 136,
   "id": "1a81a3d1",
   "metadata": {},
   "outputs": [
    {
     "data": {
      "text/plain": [
       "<AxesSubplot:xlabel='Claim_amount', ylabel='Count'>"
      ]
     },
     "execution_count": 136,
     "metadata": {},
     "output_type": "execute_result"
    },
    {
     "data": {
      "image/png": "[encoded data removed]",
      "text/plain": [
       "<Figure size 640x480 with 1 Axes>"
      ]
     },
     "metadata": {},
     "output_type": "display_data"
    }
   ],
   "source": [
    "sns.histplot(male_claims)"
   ]
  },
  {
   "cell_type": "code",
   "execution_count": 137,
   "id": "e9e6b375",
   "metadata": {},
   "outputs": [
    {
     "data": {
      "text/plain": [
       "<AxesSubplot:xlabel='Claim_amount', ylabel='Count'>"
      ]
     },
     "execution_count": 137,
     "metadata": {},
     "output_type": "execute_result"
    },
    {
     "data": {
      "image/png": "[encoded data removed]",
      "text/plain": [
       "<Figure size 640x480 with 1 Axes>"
      ]
     },
     "metadata": {},
     "output_type": "display_data"
    }
   ],
   "source": [
    "sns.histplot(female_claims)"
   ]
  },
  {
   "cell_type": "markdown",
   "id": "43a8f30e",
   "metadata": {},
   "source": [
    "#### define null hypothesis : 'H0'\n",
    "            Mean of male claims = mean of female_claims\n",
    "            \n",
    "            There is a similarity in amount claimed by both gender\n",
    "            \n",
    "            \n",
    "           \n",
    "#### define alternate hypothesis: 'Ha'\n",
    "            Mean of male claims != mean of female_claims\n",
    "            \n",
    "            There is not a similarity in amount claimed by both gender\n",
    "\n",
    "#### define CI:\n",
    "            \n",
    "            Ci = 95%\n",
    "            pvalue = 0.05\n",
    "\n",
    "\n",
    "#### perform T-test:\n",
    "    assumptions:\n",
    "                * data values are independent and continuous\n",
    "                * data values are from sample\n",
    "                * data values are normally distributed\n",
    "        \n"
   ]
  },
  {
   "cell_type": "code",
   "execution_count": 138,
   "id": "f3a34367",
   "metadata": {},
   "outputs": [
    {
     "data": {
      "text/plain": [
       "Ttest_indResult(statistic=0.9152148897770083, pvalue=0.3602838818613777)"
      ]
     },
     "execution_count": 138,
     "metadata": {},
     "output_type": "execute_result"
    }
   ],
   "source": [
    "Result_t = stats.ttest_ind(male_claims, female_claims)\n",
    "\n",
    "Result_t"
   ]
  },
  {
   "cell_type": "code",
   "execution_count": 139,
   "id": "67824987",
   "metadata": {},
   "outputs": [
    {
     "name": "stdout",
     "output_type": "stream",
     "text": [
      "-- FAILED TO REJECT NULL HYPOTHESIS !\n"
     ]
    }
   ],
   "source": [
    "if Result_t.pvalue < 0.05:\n",
    "    print(\"-- REJECT NULL HYPOTHESIS !\")\n",
    "elif Result_t.pvalue > 0.05:\n",
    "    print(\"-- FAILED TO REJECT NULL HYPOTHESIS !\")\n",
    "else:\n",
    "    print(\"Invalid\")"
   ]
  },
  {
   "cell_type": "markdown",
   "id": "9016b526",
   "metadata": {},
   "source": [
    "#### Rejection rule:\n",
    "            the new pvalue (significance level) 0.36 is greater than 0.05.\n",
    "            \n",
    "            Hence, we failed to reject the null hypothesis \"H0\"\n",
    "            "
   ]
  },
  {
   "cell_type": "markdown",
   "id": "6b3f31e9",
   "metadata": {},
   "source": [
    "#### Business Conclusion:\n",
    "    \n",
    "        with 95% confidence There is a similarity in amount claimed by both gender (Male & Female) as we can see by looking at the means of both gender and statistical analysis"
   ]
  },
  {
   "cell_type": "markdown",
   "id": "c98a56eb",
   "metadata": {},
   "source": [
    "#### 17. Is there any relationship between age category and segment?"
   ]
  },
  {
   "cell_type": "code",
   "execution_count": 140,
   "id": "734a7c7d",
   "metadata": {},
   "outputs": [
    {
     "data": {
      "text/plain": [
       "<AxesSubplot:>"
      ]
     },
     "execution_count": 140,
     "metadata": {},
     "output_type": "execute_result"
    },
    {
     "data": {
      "image/png": "[encoded data removed]",
      "text/plain": [
       "<Figure size 640x480 with 1 Axes>"
      ]
     },
     "metadata": {},
     "output_type": "display_data"
    }
   ],
   "source": [
    "insurance_data.Segment.hist()"
   ]
  },
  {
   "cell_type": "code",
   "execution_count": 141,
   "id": "927c14c5",
   "metadata": {},
   "outputs": [
    {
     "data": {
      "text/plain": [
       "<AxesSubplot:>"
      ]
     },
     "execution_count": 141,
     "metadata": {},
     "output_type": "execute_result"
    },
    {
     "data": {
      "image/png": "[encoded data removed]",
      "text/plain": [
       "<Figure size 640x480 with 1 Axes>"
      ]
     },
     "metadata": {},
     "output_type": "display_data"
    }
   ],
   "source": [
    "insurance_data.Age_group.hist()"
   ]
  },
  {
   "cell_type": "markdown",
   "id": "dd75810f",
   "metadata": {},
   "source": [
    "###### 1. Define Null Hypothesis, H0:\n",
    "    \n",
    "            segment & Age_group are independent\n",
    "\n",
    "###### 2. Define Alternate Hypothesis ,Ha:\n",
    "        \n",
    "            segment & Age_group are dependent\n",
    "\n",
    "##### 3. Define CI & pvalues:\n",
    "            \n",
    "            CI = 95% \n",
    "            p values = 0.05\n",
    "            \n",
    "##### 4. Perform chi-squared test:\n",
    "        assumptions:\n",
    "                    * both variables are categorical\n",
    "                    * data values are normally distributed\n",
    "                    * data values in observed frequency table biased towards adult & youth"
   ]
  },
  {
   "cell_type": "code",
   "execution_count": 142,
   "id": "834ffc32",
   "metadata": {},
   "outputs": [
    {
     "data": {
      "text/html": [
       "<div>\n",
       "<style scoped>\n",
       "    .dataframe tbody tr th:only-of-type {\n",
       "        vertical-align: middle;\n",
       "    }\n",
       "\n",
       "    .dataframe tbody tr th {\n",
       "        vertical-align: top;\n",
       "    }\n",
       "\n",
       "    .dataframe thead th {\n",
       "        text-align: right;\n",
       "    }\n",
       "</style>\n",
       "<table border=\"1\" class=\"dataframe\">\n",
       "  <thead>\n",
       "    <tr style=\"text-align: right;\">\n",
       "      <th>Segment</th>\n",
       "      <th>Gold</th>\n",
       "      <th>Platinum</th>\n",
       "      <th>Silver</th>\n",
       "    </tr>\n",
       "    <tr>\n",
       "      <th>Age_group</th>\n",
       "      <th></th>\n",
       "      <th></th>\n",
       "      <th></th>\n",
       "    </tr>\n",
       "  </thead>\n",
       "  <tbody>\n",
       "    <tr>\n",
       "      <th>Adult</th>\n",
       "      <td>268</td>\n",
       "      <td>244</td>\n",
       "      <td>246</td>\n",
       "    </tr>\n",
       "    <tr>\n",
       "      <th>Children</th>\n",
       "      <td>1</td>\n",
       "      <td>1</td>\n",
       "      <td>0</td>\n",
       "    </tr>\n",
       "    <tr>\n",
       "      <th>Youth</th>\n",
       "      <td>102</td>\n",
       "      <td>116</td>\n",
       "      <td>100</td>\n",
       "    </tr>\n",
       "  </tbody>\n",
       "</table>\n",
       "</div>"
      ],
      "text/plain": [
       "Segment    Gold  Platinum  Silver\n",
       "Age_group                        \n",
       "Adult       268       244     246\n",
       "Children      1         1       0\n",
       "Youth       102       116     100"
      ]
     },
     "execution_count": 142,
     "metadata": {},
     "output_type": "execute_result"
    }
   ],
   "source": [
    "Obs_freq_tb = pd.crosstab(columns=insurance_data.Segment, index=insurance_data.Age_group)\n",
    "Obs_freq_tb"
   ]
  },
  {
   "cell_type": "code",
   "execution_count": 143,
   "id": "281ef3b4",
   "metadata": {},
   "outputs": [
    {
     "data": {
      "text/plain": [
       "(2.9490863525635582,\n",
       " 0.5663815153084528,\n",
       " 4,\n",
       " array([[260.87012987, 253.83858998, 243.29128015],\n",
       "        [  0.68831169,   0.66975881,   0.6419295 ],\n",
       "        [109.44155844, 106.49165121, 102.06679035]]))"
      ]
     },
     "execution_count": 143,
     "metadata": {},
     "output_type": "execute_result"
    }
   ],
   "source": [
    "stats.chi2_contingency(observed=Obs_freq_tb)"
   ]
  },
  {
   "cell_type": "markdown",
   "id": "dc80d870",
   "metadata": {},
   "source": [
    "#### Rejection rule:\n",
    "            - observed frequency table and expected frequency table are different.\n",
    "            - the new pvalue (significance level) 0.56 is greater than 0.05.\n",
    "            \n",
    "            Hence, we failed to reject the null hypothesis \"H0\"\n",
    "            "
   ]
  },
  {
   "cell_type": "markdown",
   "id": "3de3c34c",
   "metadata": {},
   "source": [
    "#### Business conclusion:\n",
    "        \n",
    "        with 95% Confidence, there is no relationship between age category and segment.\n",
    "        "
   ]
  },
  {
   "cell_type": "markdown",
   "id": "6895d948",
   "metadata": {},
   "source": [
    "#### 18. The current year has shown a significant rise in claim amounts as compared to 2016-17 fiscal average which was $10,000."
   ]
  },
  {
   "cell_type": "code",
   "execution_count": 144,
   "id": "d0779a3b",
   "metadata": {},
   "outputs": [
    {
     "data": {
      "text/plain": [
       "12330.14"
      ]
     },
     "execution_count": 144,
     "metadata": {},
     "output_type": "execute_result"
    }
   ],
   "source": [
    "#2016 - 2017  one year\n",
    "mean_of_claimAmount16 = 1000    #(population)\n",
    "\n",
    "#2017-2018 (2017-01-01 to 2017-12-30) one year\n",
    "mean_of_claimAmount17 = np.round(insurance_data.loc[insurance_data.Claim_date.dt.year==2017].Claim_amount.mean(), 2)\n",
    "mean_of_claimAmount17          #(sample)"
   ]
  },
  {
   "cell_type": "code",
   "execution_count": 145,
   "id": "009eae92",
   "metadata": {},
   "outputs": [
    {
     "data": {
      "text/plain": [
       "0       37290.0\n",
       "1       20310.0\n",
       "2       19120.0\n",
       "3       20200.0\n",
       "4       30930.0\n",
       "         ...   \n",
       "1073     2790.0\n",
       "1074     1920.0\n",
       "1075     1670.0\n",
       "1076     2070.0\n",
       "1077     2090.0\n",
       "Name: Claim_amount, Length: 595, dtype: float64"
      ]
     },
     "execution_count": 145,
     "metadata": {},
     "output_type": "execute_result"
    }
   ],
   "source": [
    "ClaimAmount_17 =insurance_data.loc[insurance_data.Claim_date.dt.year==2017].Claim_amount\n",
    "\n",
    "ClaimAmount_17"
   ]
  },
  {
   "cell_type": "markdown",
   "id": "0cac2a5a",
   "metadata": {},
   "source": [
    "###### 1. Define Null Hypothesis, H0:\n",
    "    \n",
    "            mean_of_claimAmount16 = mean_of_claimAmount17\n",
    "        \n",
    "###### 2. Define Alternate Hypothesis ,Ha:\n",
    "        \n",
    "             mean_of_claimAmount16 != mean_of_claimAmount17\n",
    "\n",
    "##### 3. Define CI & pvalues:\n",
    "            \n",
    "            CI = 95% \n",
    "            p values = 0.05\n",
    "            \n",
    "##### 4. Perform T-test:\n",
    "        assumptions:\n",
    "                    * both variables are continuous\n",
    "                    * data values are normally distributed\n",
    "                    * comparing last year hypothesized value mean pop. with sample mean"
   ]
  },
  {
   "cell_type": "code",
   "execution_count": 146,
   "id": "072555d7",
   "metadata": {},
   "outputs": [
    {
     "data": {
      "text/plain": [
       "Ttest_1sampResult(statistic=20.797125374520228, pvalue=1.3802191614127859e-72)"
      ]
     },
     "execution_count": 146,
     "metadata": {},
     "output_type": "execute_result"
    }
   ],
   "source": [
    "Result_t1sample = stats.ttest_1samp( a = ClaimAmount_17, popmean = mean_of_claimAmount16 )\n",
    "\n",
    "Result_t1sample"
   ]
  },
  {
   "cell_type": "code",
   "execution_count": 147,
   "id": "0e342d47",
   "metadata": {},
   "outputs": [
    {
     "name": "stdout",
     "output_type": "stream",
     "text": [
      "-- REJECT NULL HYPOTHESIS !\n"
     ]
    }
   ],
   "source": [
    "if Result_t1sample.pvalue < 0.05:\n",
    "    print(\"-- REJECT NULL HYPOTHESIS !\")\n",
    "elif Result_t1sample.pvalue > 0.05:\n",
    "    print(\"-- FAILED TO REJECT NULL HYPOTHESIS !\")\n",
    "else:\n",
    "    print(\"Invalid\")"
   ]
  },
  {
   "cell_type": "markdown",
   "id": "72280526",
   "metadata": {},
   "source": [
    "#### Rejection rule:\n",
    "                   - the new pvalue (significance level) 1.3802191614127859e-72 is less than 0.05.\n",
    "                   - t-score 20.797125374520228 is beyond the cut-off 1.960\n",
    "            \n",
    "                   Hence, we reject the null hypothesis \"H0\"\n",
    "            "
   ]
  },
  {
   "cell_type": "markdown",
   "id": "e1a963ab",
   "metadata": {},
   "source": [
    "#### Business conclusion:\n",
    "        \n",
    "    with 95% Confidence,\n",
    "        -last year claim amount is not equal to current year claim amount as per statiscal tests.\n",
    "        -but by comparing the means of last and current year, we can say that \n",
    "        \"The current year has shown a significant rise from 1000 to 12330.14 in claim amounts as compared to 2016-17\" \n",
    "        "
   ]
  },
  {
   "cell_type": "markdown",
   "id": "012b309b",
   "metadata": {},
   "source": [
    "#### 19. Is there any difference between age groups and insurance claims?"
   ]
  },
  {
   "cell_type": "code",
   "execution_count": 148,
   "id": "dacbf666",
   "metadata": {},
   "outputs": [
    {
     "name": "stdout",
     "output_type": "stream",
     "text": [
      "mean of Children- 22405.0\n",
      "mean of Youth- 11604.87\n",
      "mean of Adult- 12822.28\n"
     ]
    }
   ],
   "source": [
    "Childern = insurance_data.loc[insurance_data.Age_group==\"Children\"].Claim_amount\n",
    "Youth = insurance_data.loc[insurance_data.Age_group==\"Youth\"].Claim_amount\n",
    "Adult = insurance_data.loc[insurance_data.Age_group==\"Adult\"].Claim_amount\n",
    "\n",
    "print(f\"mean of Children- {np.round(Childern.mean(), 2)}\")\n",
    "print(f\"mean of Youth- {np.round(Youth.mean(), 2)}\")\n",
    "print(f\"mean of Adult- {np.round(Adult.mean(), 2)}\")\n"
   ]
  },
  {
   "cell_type": "markdown",
   "id": "6048aae4",
   "metadata": {},
   "source": [
    "###### 1. Define Null Hypothesis, H0:\n",
    "\n",
    "             mean of Children != mean of youth != mean of Adult\n",
    "             \n",
    "              There is some difference between different age categories (insuarance claim behavior)\n",
    "        \n",
    "###### 2. Define Alternate Hypothesis ,Ha:\n",
    "    \n",
    "            mean of Children = mean of youth = mean of Adult\n",
    "            \n",
    "            There is no difference between different age categories (insuarance claim behavior)\n",
    "\n",
    "##### 3. Define CI & pvalues:\n",
    "            \n",
    "            CI = 95% \n",
    "            p values = 0.05\n",
    "            \n",
    "##### 4. Perform ANOVA (f-test):"
   ]
  },
  {
   "cell_type": "code",
   "execution_count": 149,
   "id": "5ec2a0cb",
   "metadata": {},
   "outputs": [],
   "source": [
    "Result_F = stats.f_oneway(Childern, Youth, Adult)"
   ]
  },
  {
   "cell_type": "code",
   "execution_count": 150,
   "id": "b17dca9c",
   "metadata": {},
   "outputs": [
    {
     "name": "stdout",
     "output_type": "stream",
     "text": [
      "-- FAILED TO REJECT NULL HYPOTHESIS !\n"
     ]
    }
   ],
   "source": [
    "if Result_F.pvalue < 0.05:\n",
    "    print(\"-- REJECT NULL HYPOTHESIS !\")\n",
    "elif Result_F.pvalue > 0.05:\n",
    "    print(\"-- FAILED TO REJECT NULL HYPOTHESIS !\")\n",
    "else:\n",
    "    print(\"Invalid\")"
   ]
  },
  {
   "cell_type": "markdown",
   "id": "543dd2b4",
   "metadata": {},
   "source": [
    "#### Rejection rule:\n",
    "            - the new pvalue (significance level) 0.22 is greater than 0.05.\n",
    "            \n",
    "            Hence, we failed to reject the null hypothesis \"H0\"\n",
    "            "
   ]
  },
  {
   "cell_type": "markdown",
   "id": "638c3221",
   "metadata": {},
   "source": [
    "#### Business conclusion:\n",
    "        \n",
    "        - with 95% Confidence, there is some difference between different age categories (insuarance claim behavior).\n",
    "        - The same can be seen by means of children, youth, adult.\n",
    "        - So, the companies can come with new schemes for age categories which have high positivly using behavior and negativly using behavior to get their target Customers\n",
    "        "
   ]
  },
  {
   "cell_type": "markdown",
   "id": "772243f9",
   "metadata": {},
   "source": [
    "#### 20. Is there any relationship between total number of policy claims and the claimed amount?"
   ]
  },
  {
   "cell_type": "code",
   "execution_count": 151,
   "id": "569552bc",
   "metadata": {},
   "outputs": [
    {
     "data": {
      "text/html": [
       "<div>\n",
       "<style scoped>\n",
       "    .dataframe tbody tr th:only-of-type {\n",
       "        vertical-align: middle;\n",
       "    }\n",
       "\n",
       "    .dataframe tbody tr th {\n",
       "        vertical-align: top;\n",
       "    }\n",
       "\n",
       "    .dataframe thead th {\n",
       "        text-align: right;\n",
       "    }\n",
       "</style>\n",
       "<table border=\"1\" class=\"dataframe\">\n",
       "  <thead>\n",
       "    <tr style=\"text-align: right;\">\n",
       "      <th></th>\n",
       "      <th>Claim_amount</th>\n",
       "      <th>Total_policy_claims</th>\n",
       "    </tr>\n",
       "  </thead>\n",
       "  <tbody>\n",
       "    <tr>\n",
       "      <th>0</th>\n",
       "      <td>37290.0</td>\n",
       "      <td>3.0</td>\n",
       "    </tr>\n",
       "    <tr>\n",
       "      <th>1</th>\n",
       "      <td>20310.0</td>\n",
       "      <td>1.0</td>\n",
       "    </tr>\n",
       "    <tr>\n",
       "      <th>2</th>\n",
       "      <td>19120.0</td>\n",
       "      <td>1.0</td>\n",
       "    </tr>\n",
       "    <tr>\n",
       "      <th>3</th>\n",
       "      <td>20200.0</td>\n",
       "      <td>1.0</td>\n",
       "    </tr>\n",
       "    <tr>\n",
       "      <th>4</th>\n",
       "      <td>30930.0</td>\n",
       "      <td>1.0</td>\n",
       "    </tr>\n",
       "    <tr>\n",
       "      <th>...</th>\n",
       "      <td>...</td>\n",
       "      <td>...</td>\n",
       "    </tr>\n",
       "    <tr>\n",
       "      <th>1073</th>\n",
       "      <td>2790.0</td>\n",
       "      <td>3.0</td>\n",
       "    </tr>\n",
       "    <tr>\n",
       "      <th>1074</th>\n",
       "      <td>1920.0</td>\n",
       "      <td>2.0</td>\n",
       "    </tr>\n",
       "    <tr>\n",
       "      <th>1075</th>\n",
       "      <td>1670.0</td>\n",
       "      <td>2.0</td>\n",
       "    </tr>\n",
       "    <tr>\n",
       "      <th>1076</th>\n",
       "      <td>2070.0</td>\n",
       "      <td>1.0</td>\n",
       "    </tr>\n",
       "    <tr>\n",
       "      <th>1077</th>\n",
       "      <td>2090.0</td>\n",
       "      <td>1.0</td>\n",
       "    </tr>\n",
       "  </tbody>\n",
       "</table>\n",
       "<p>1078 rows × 2 columns</p>\n",
       "</div>"
      ],
      "text/plain": [
       "      Claim_amount  Total_policy_claims\n",
       "0          37290.0                  3.0\n",
       "1          20310.0                  1.0\n",
       "2          19120.0                  1.0\n",
       "3          20200.0                  1.0\n",
       "4          30930.0                  1.0\n",
       "...            ...                  ...\n",
       "1073        2790.0                  3.0\n",
       "1074        1920.0                  2.0\n",
       "1075        1670.0                  2.0\n",
       "1076        2070.0                  1.0\n",
       "1077        2090.0                  1.0\n",
       "\n",
       "[1078 rows x 2 columns]"
      ]
     },
     "execution_count": 151,
     "metadata": {},
     "output_type": "execute_result"
    }
   ],
   "source": [
    "insurance_data.loc[::,[\"Claim_amount\", \"Total_policy_claims\"]]"
   ]
  },
  {
   "cell_type": "markdown",
   "id": "8a0792eb",
   "metadata": {},
   "source": [
    "###### 1. Define Null Hypothesis, H0:\n",
    "    \n",
    "            total number of policy claims & claimed amount are independent\n",
    "\n",
    "###### 2. Define Alternate Hypothesis ,Ha:\n",
    "        \n",
    "            total number of policy claims & claimed amount are dependent\n",
    "\n",
    "##### 3. Define CI & pvalues:\n",
    "            \n",
    "            CI = 95% \n",
    "            p values = 0.05\n",
    "            \n",
    "##### 4. Perform Co-relation (pearsonr)test:\n",
    "        assumptions:\n",
    "                    * data values are normally distributed"
   ]
  },
  {
   "cell_type": "code",
   "execution_count": 152,
   "id": "0232407b",
   "metadata": {},
   "outputs": [
    {
     "data": {
      "text/plain": [
       "PearsonRResult(statistic=-0.01850581472520098, pvalue=0.5438862132528441)"
      ]
     },
     "execution_count": 152,
     "metadata": {},
     "output_type": "execute_result"
    }
   ],
   "source": [
    "Result_p =  stats.pearsonr(insurance_data.Claim_amount, insurance_data.Total_policy_claims)\n",
    "\n",
    "Result_p"
   ]
  },
  {
   "cell_type": "code",
   "execution_count": 153,
   "id": "494438aa",
   "metadata": {},
   "outputs": [
    {
     "name": "stdout",
     "output_type": "stream",
     "text": [
      "-- FAILED TO REJECT NULL HYPOTHESIS !\n"
     ]
    }
   ],
   "source": [
    "if Result_p.pvalue < 0.05:\n",
    "    print(\"-- REJECT NULL HYPOTHESIS !\")\n",
    "elif Result_p.pvalue > 0.05:\n",
    "    print(\"-- FAILED TO REJECT NULL HYPOTHESIS !\")\n",
    "else:\n",
    "    print(\"Invalid\")"
   ]
  },
  {
   "cell_type": "markdown",
   "id": "a5ec6835",
   "metadata": {},
   "source": [
    "#### Rejection rule:\n",
    "            - \"r\" is -0.01 which is indirect and close to no relation\n",
    "            - the new pvalue (significance level) 0.54 is greater than 0.05.\n",
    "            \n",
    "            Hence, we failed to reject the null hypothesis \"H0\"\n",
    "            "
   ]
  },
  {
   "cell_type": "markdown",
   "id": "c5c7a8c4",
   "metadata": {},
   "source": [
    "#### Business conclusion:\n",
    "        \n",
    "            with 95% Confidence, - there is no relationship between total number of policy claims & claimed amount\n",
    "                                 - they are independent variables\n",
    "        "
   ]
  },
  {
   "cell_type": "code",
   "execution_count": null,
   "id": "b243d8d6",
   "metadata": {},
   "outputs": [],
   "source": []
  },
  {
   "cell_type": "code",
   "execution_count": null,
   "id": "2036d668",
   "metadata": {},
   "outputs": [],
   "source": []
  }
 ],
 "metadata": {
  "kernelspec": {
   "display_name": "Python 3 (ipykernel)",
   "language": "python",
   "name": "python3"
  },
  "language_info": {
   "codemirror_mode": {
    "name": "ipython",
    "version": 3
   },
   "file_extension": ".py",
   "mimetype": "text/x-python",
   "name": "python",
   "nbconvert_exporter": "python",
   "pygments_lexer": "ipython3",
   "version": "3.9.13"
  }
 },
 "nbformat": 4,
 "nbformat_minor": 5
}
